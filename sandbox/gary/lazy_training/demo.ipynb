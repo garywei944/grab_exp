{
 "cells": [
  {
   "cell_type": "code",
   "execution_count": 2,
   "metadata": {},
   "outputs": [
    {
     "name": "stdout",
     "output_type": "stream",
     "text": [
      "/home/aris/projects/GraB-lib\n"
     ]
    }
   ],
   "source": [
    "%cd ~/projects/GraB-lib\n",
    "\n",
    "%load_ext autoreload\n",
    "%autoreload 1"
   ]
  },
  {
   "cell_type": "code",
   "execution_count": 3,
   "metadata": {},
   "outputs": [],
   "source": [
    "from torch import nn\n",
    "\n",
    "import os\n",
    "import sys\n",
    "from functools import partial, reduce\n",
    "from pathlib import Path\n",
    "from dataclasses import dataclass, field\n",
    "\n",
    "import evaluate\n",
    "import numpy as np\n",
    "import pandas as pd\n",
    "import wandb\n",
    "from tqdm import tqdm\n",
    "from absl import logging\n",
    "\n",
    "import torch\n",
    "import torch.nn as nn\n",
    "from torchvision import datasets, transforms\n",
    "from transformers import (\n",
    "    HfArgumentParser, TrainingArguments, set_seed\n",
    ")\n",
    "\n",
    "import torchopt\n",
    "from torch.func import (\n",
    "    grad, grad_and_value, vmap, functional_call\n",
    ")\n",
    "\n",
    "from grabngo import GraBSampler, BalanceType\n",
    "from grabngo.utils import EventTimer, pretty_time\n",
    "\n",
    "from experiments.cv.models import LeNet"
   ]
  },
  {
   "cell_type": "code",
   "execution_count": 4,
   "metadata": {},
   "outputs": [
    {
     "name": "stdout",
     "output_type": "stream",
     "text": [
      "Files already downloaded and verified\n",
      "Files already downloaded and verified\n"
     ]
    }
   ],
   "source": [
    "device = \"cuda\"\n",
    "batch_size = 16\n",
    "transform = transforms.Compose(\n",
    "    [\n",
    "        transforms.ToTensor(),\n",
    "        transforms.Normalize(\n",
    "            mean=[0.49139968, 0.48215841, 0.44653091],\n",
    "            std=[0.24703223, 0.24348513, 0.26158784],\n",
    "        ),\n",
    "    ]\n",
    ")\n",
    "\n",
    "# Loading the dataset and preprocessing\n",
    "train_dataset = datasets.CIFAR10(\n",
    "    root=\"data/external\", train=True, download=True, transform=transform\n",
    ")\n",
    "test_dataset = datasets.CIFAR10(\n",
    "    root=\"data/external\", train=False, download=True, transform=transform\n",
    ")\n",
    "\n",
    "in_dim, num_classes = 3, 10\n",
    "\n",
    "loss_fn = nn.CrossEntropyLoss().to(device)\n",
    "\n",
    "train_loader = torch.utils.data.DataLoader(\n",
    "    dataset=train_dataset,\n",
    "    batch_size=batch_size,\n",
    "    # sampler=sampler,\n",
    "    persistent_workers=False,\n",
    "    num_workers=1,\n",
    "    pin_memory=True,\n",
    ")\n",
    "train_eval_loader = torch.utils.data.DataLoader(\n",
    "    dataset=train_dataset,\n",
    "    batch_size=batch_size,\n",
    "    persistent_workers=False,\n",
    "    num_workers=1,\n",
    "    pin_memory=True,\n",
    ")\n",
    "\n",
    "test_loader = torch.utils.data.DataLoader(\n",
    "    dataset=test_dataset,\n",
    "    batch_size=batch_size,\n",
    "    persistent_workers=False,\n",
    "    num_workers=1,\n",
    "    pin_memory=True,\n",
    ")"
   ]
  },
  {
   "cell_type": "code",
   "execution_count": 5,
   "metadata": {},
   "outputs": [],
   "source": [
    "loader = torch.utils.data.DataLoader(train_dataset, batch_size=len(train_loader), shuffle=False)\n",
    "\n",
    "data, targets = next(iter(loader))\n",
    "\n",
    "logging.set_verbosity(logging.INFO)"
   ]
  },
  {
   "cell_type": "code",
   "execution_count": 6,
   "metadata": {},
   "outputs": [],
   "source": [
    "%matplotlib inline\n",
    "\n",
    "import numpy as np\n",
    "import matplotlib.pyplot as plt"
   ]
  },
  {
   "cell_type": "code",
   "execution_count": 49,
   "metadata": {},
   "outputs": [
    {
     "name": "stderr",
     "output_type": "stream",
     "text": []
    },
    {
     "name": "stderr",
     "output_type": "stream",
     "text": [
      "100%|██████████| 3125/3125 [00:12<00:00, 242.61it/s]\n",
      "100%|██████████| 3125/3125 [00:12<00:00, 241.66it/s]\n",
      "100%|██████████| 3125/3125 [00:12<00:00, 246.47it/s]\n",
      "100%|██████████| 3125/3125 [00:12<00:00, 250.62it/s]\n",
      "100%|██████████| 3125/3125 [00:12<00:00, 252.30it/s]\n",
      "100%|██████████| 3125/3125 [00:12<00:00, 245.32it/s]\n",
      "100%|██████████| 3125/3125 [00:12<00:00, 247.41it/s]\n",
      "100%|██████████| 3125/3125 [00:12<00:00, 243.86it/s]\n",
      "100%|██████████| 3125/3125 [00:12<00:00, 243.50it/s]\n",
      "100%|██████████| 3125/3125 [00:12<00:00, 251.78it/s]\n"
     ]
    }
   ],
   "source": [
    "from torch import optim\n",
    "from transformers import set_seed\n",
    "\n",
    "\n",
    "@torch.no_grad()\n",
    "def visual_weights(weights: nn.Module, start_idx=0, size=10, filename=\"weight.png\"):\n",
    "    weight = torch.cat([p.view(-1) for p in weights.parameters()])\n",
    "\n",
    "    return weight[start_idx : start_idx + size * size].view(size, -1).cpu().numpy()\n",
    "\n",
    "\n",
    "set_seed(42)\n",
    "model = LeNet().cuda()\n",
    "\n",
    "optimizer = optim.SGD(model.parameters(), lr=0.01, momentum=0, weight_decay=0.01)\n",
    "\n",
    "step = 0\n",
    "frames = []\n",
    "for epoch in range(10):\n",
    "    for i, (x, y) in tqdm(enumerate(train_loader), total=len(train_loader)):\n",
    "        x = x.cuda()\n",
    "        y = y.cuda()\n",
    "        optimizer.zero_grad()\n",
    "        loss = loss_fn(model(x), y)\n",
    "        loss.backward()\n",
    "        optimizer.step()\n",
    "\n",
    "        if step % 100 == 0:\n",
    "            frames.append(visual_weights(\n",
    "                model, filename=f\"sandbox/gary/lazy_training/weights/weight_{step}.png\",\n",
    "                size = 200\n",
    "            ))\n",
    "            torch.save(model.state_dict(), f\"sandbox/gary/lazy_training/weights/weight_{step}.pt\")\n",
    "        step += 1\n",
    "        "
   ]
  },
  {
   "cell_type": "code",
   "execution_count": 50,
   "metadata": {},
   "outputs": [
    {
     "data": {
      "text/html": [
       "<pre style=\"white-space:pre;overflow-x:auto;line-height:normal;font-family:Menlo,'DejaVu Sans Mono',consolas,'Courier New',monospace\"><span style=\"color: #800000; text-decoration-color: #800000\">╭─────────────────────────────── </span><span style=\"color: #800000; text-decoration-color: #800000; font-weight: bold\">Traceback </span><span style=\"color: #bf7f7f; text-decoration-color: #bf7f7f; font-weight: bold\">(most recent call last)</span><span style=\"color: #800000; text-decoration-color: #800000\"> ────────────────────────────────╮</span>\n",
       "<span style=\"color: #800000; text-decoration-color: #800000\">│</span> in <span style=\"color: #00ff00; text-decoration-color: #00ff00\">&lt;module&gt;</span>:<span style=\"color: #0000ff; text-decoration-color: #0000ff\">6</span>                                                                                    <span style=\"color: #800000; text-decoration-color: #800000\">│</span>\n",
       "<span style=\"color: #800000; text-decoration-color: #800000\">│</span>                                                                                                  <span style=\"color: #800000; text-decoration-color: #800000\">│</span>\n",
       "<span style=\"color: #800000; text-decoration-color: #800000\">│</span>   <span style=\"color: #7f7f7f; text-decoration-color: #7f7f7f\">3 </span>images = []                                                                                  <span style=\"color: #800000; text-decoration-color: #800000\">│</span>\n",
       "<span style=\"color: #800000; text-decoration-color: #800000\">│</span>   <span style=\"color: #7f7f7f; text-decoration-color: #7f7f7f\">4 </span><span style=\"color: #0000ff; text-decoration-color: #0000ff\">for</span> idx <span style=\"color: #ff00ff; text-decoration-color: #ff00ff\">in</span> <span style=\"color: #00ffff; text-decoration-color: #00ffff\">range</span>(<span style=\"color: #0000ff; text-decoration-color: #0000ff\">87</span>):                                                                        <span style=\"color: #800000; text-decoration-color: #800000\">│</span>\n",
       "<span style=\"color: #800000; text-decoration-color: #800000\">│</span>   <span style=\"color: #7f7f7f; text-decoration-color: #7f7f7f\">5 </span><span style=\"color: #7f7f7f; text-decoration-color: #7f7f7f\">│   </span>step = idx * <span style=\"color: #0000ff; text-decoration-color: #0000ff\">100</span>                                                                         <span style=\"color: #800000; text-decoration-color: #800000\">│</span>\n",
       "<span style=\"color: #800000; text-decoration-color: #800000\">│</span> <span style=\"color: #800000; text-decoration-color: #800000\">❱ </span>6 <span style=\"color: #7f7f7f; text-decoration-color: #7f7f7f\">│   </span>images.append(imageio.v2.imread(<span style=\"color: #808000; text-decoration-color: #808000\">f\"sandbox/gary/lazy_training/imgs/weight_{</span>step<span style=\"color: #808000; text-decoration-color: #808000\">}.png\"</span>     <span style=\"color: #800000; text-decoration-color: #800000\">│</span>\n",
       "<span style=\"color: #800000; text-decoration-color: #800000\">│</span>   <span style=\"color: #7f7f7f; text-decoration-color: #7f7f7f\">7 </span>imageio.mimsave(<span style=\"color: #808000; text-decoration-color: #808000\">f\"sandbox/gary/lazy_training/imgs/weights.gif\"</span>, images)                      <span style=\"color: #800000; text-decoration-color: #800000\">│</span>\n",
       "<span style=\"color: #800000; text-decoration-color: #800000\">│</span>   <span style=\"color: #7f7f7f; text-decoration-color: #7f7f7f\">8 </span>                                                                                             <span style=\"color: #800000; text-decoration-color: #800000\">│</span>\n",
       "<span style=\"color: #800000; text-decoration-color: #800000\">│</span>                                                                                                  <span style=\"color: #800000; text-decoration-color: #800000\">│</span>\n",
       "<span style=\"color: #800000; text-decoration-color: #800000\">│</span> <span style=\"color: #bfbf7f; text-decoration-color: #bfbf7f\">/home/aris/mambaforge/envs/grab/lib/python3.10/site-packages/imageio/</span><span style=\"color: #808000; text-decoration-color: #808000; font-weight: bold\">v2.py</span>:<span style=\"color: #0000ff; text-decoration-color: #0000ff\">359</span> in <span style=\"color: #00ff00; text-decoration-color: #00ff00\">imread</span>         <span style=\"color: #800000; text-decoration-color: #800000\">│</span>\n",
       "<span style=\"color: #800000; text-decoration-color: #800000\">│</span>                                                                                                  <span style=\"color: #800000; text-decoration-color: #800000\">│</span>\n",
       "<span style=\"color: #800000; text-decoration-color: #800000\">│</span>   <span style=\"color: #7f7f7f; text-decoration-color: #7f7f7f\">356 </span><span style=\"color: #7f7f7f; text-decoration-color: #7f7f7f\">│   </span>imopen_args = decypher_format_arg(<span style=\"color: #00ffff; text-decoration-color: #00ffff\">format</span>)                                              <span style=\"color: #800000; text-decoration-color: #800000\">│</span>\n",
       "<span style=\"color: #800000; text-decoration-color: #800000\">│</span>   <span style=\"color: #7f7f7f; text-decoration-color: #7f7f7f\">357 </span><span style=\"color: #7f7f7f; text-decoration-color: #7f7f7f\">│   </span>imopen_args[<span style=\"color: #808000; text-decoration-color: #808000\">\"legacy_mode\"</span>] = <span style=\"color: #0000ff; text-decoration-color: #0000ff\">True</span>                                                      <span style=\"color: #800000; text-decoration-color: #800000\">│</span>\n",
       "<span style=\"color: #800000; text-decoration-color: #800000\">│</span>   <span style=\"color: #7f7f7f; text-decoration-color: #7f7f7f\">358 </span><span style=\"color: #7f7f7f; text-decoration-color: #7f7f7f\">│   </span>                                                                                       <span style=\"color: #800000; text-decoration-color: #800000\">│</span>\n",
       "<span style=\"color: #800000; text-decoration-color: #800000\">│</span> <span style=\"color: #800000; text-decoration-color: #800000\">❱ </span>359 <span style=\"color: #7f7f7f; text-decoration-color: #7f7f7f\">│   </span><span style=\"color: #0000ff; text-decoration-color: #0000ff\">with</span> imopen(uri, <span style=\"color: #808000; text-decoration-color: #808000\">\"ri\"</span>, **imopen_args) <span style=\"color: #0000ff; text-decoration-color: #0000ff\">as</span> file:                                         <span style=\"color: #800000; text-decoration-color: #800000\">│</span>\n",
       "<span style=\"color: #800000; text-decoration-color: #800000\">│</span>   <span style=\"color: #7f7f7f; text-decoration-color: #7f7f7f\">360 </span><span style=\"color: #7f7f7f; text-decoration-color: #7f7f7f\">│   │   </span>result = file.read(index=<span style=\"color: #0000ff; text-decoration-color: #0000ff\">0</span>, **kwargs)                                              <span style=\"color: #800000; text-decoration-color: #800000\">│</span>\n",
       "<span style=\"color: #800000; text-decoration-color: #800000\">│</span>   <span style=\"color: #7f7f7f; text-decoration-color: #7f7f7f\">361 </span><span style=\"color: #7f7f7f; text-decoration-color: #7f7f7f\">│   </span>                                                                                       <span style=\"color: #800000; text-decoration-color: #800000\">│</span>\n",
       "<span style=\"color: #800000; text-decoration-color: #800000\">│</span>   <span style=\"color: #7f7f7f; text-decoration-color: #7f7f7f\">362 </span><span style=\"color: #7f7f7f; text-decoration-color: #7f7f7f\">│   </span><span style=\"color: #0000ff; text-decoration-color: #0000ff\">return</span> result                                                                          <span style=\"color: #800000; text-decoration-color: #800000\">│</span>\n",
       "<span style=\"color: #800000; text-decoration-color: #800000\">│</span>                                                                                                  <span style=\"color: #800000; text-decoration-color: #800000\">│</span>\n",
       "<span style=\"color: #800000; text-decoration-color: #800000\">│</span> <span style=\"color: #bfbf7f; text-decoration-color: #bfbf7f\">/home/aris/mambaforge/envs/grab/lib/python3.10/site-packages/imageio/core/</span><span style=\"color: #808000; text-decoration-color: #808000; font-weight: bold\">imopen.py</span>:<span style=\"color: #0000ff; text-decoration-color: #0000ff\">113</span> in       <span style=\"color: #800000; text-decoration-color: #800000\">│</span>\n",
       "<span style=\"color: #800000; text-decoration-color: #800000\">│</span> <span style=\"color: #00ff00; text-decoration-color: #00ff00\">imopen</span>                                                                                           <span style=\"color: #800000; text-decoration-color: #800000\">│</span>\n",
       "<span style=\"color: #800000; text-decoration-color: #800000\">│</span>                                                                                                  <span style=\"color: #800000; text-decoration-color: #800000\">│</span>\n",
       "<span style=\"color: #800000; text-decoration-color: #800000\">│</span>   <span style=\"color: #7f7f7f; text-decoration-color: #7f7f7f\">110 </span><span style=\"color: #7f7f7f; text-decoration-color: #7f7f7f\">│   │   </span>io_mode = request.mode.io_mode                                                     <span style=\"color: #800000; text-decoration-color: #800000\">│</span>\n",
       "<span style=\"color: #800000; text-decoration-color: #800000\">│</span>   <span style=\"color: #7f7f7f; text-decoration-color: #7f7f7f\">111 </span><span style=\"color: #7f7f7f; text-decoration-color: #7f7f7f\">│   │   </span>request.format_hint = format_hint                                                  <span style=\"color: #800000; text-decoration-color: #800000\">│</span>\n",
       "<span style=\"color: #800000; text-decoration-color: #800000\">│</span>   <span style=\"color: #7f7f7f; text-decoration-color: #7f7f7f\">112 </span><span style=\"color: #7f7f7f; text-decoration-color: #7f7f7f\">│   </span><span style=\"color: #0000ff; text-decoration-color: #0000ff\">else</span>:                                                                                  <span style=\"color: #800000; text-decoration-color: #800000\">│</span>\n",
       "<span style=\"color: #800000; text-decoration-color: #800000\">│</span> <span style=\"color: #800000; text-decoration-color: #800000\">❱ </span>113 <span style=\"color: #7f7f7f; text-decoration-color: #7f7f7f\">│   │   </span>request = Request(uri, io_mode, format_hint=format_hint, extension=extension)      <span style=\"color: #800000; text-decoration-color: #800000\">│</span>\n",
       "<span style=\"color: #800000; text-decoration-color: #800000\">│</span>   <span style=\"color: #7f7f7f; text-decoration-color: #7f7f7f\">114 </span><span style=\"color: #7f7f7f; text-decoration-color: #7f7f7f\">│   </span>                                                                                       <span style=\"color: #800000; text-decoration-color: #800000\">│</span>\n",
       "<span style=\"color: #800000; text-decoration-color: #800000\">│</span>   <span style=\"color: #7f7f7f; text-decoration-color: #7f7f7f\">115 </span><span style=\"color: #7f7f7f; text-decoration-color: #7f7f7f\">│   </span>source = <span style=\"color: #808000; text-decoration-color: #808000\">\"&lt;bytes&gt;\"</span> <span style=\"color: #0000ff; text-decoration-color: #0000ff\">if</span> <span style=\"color: #00ffff; text-decoration-color: #00ffff\">isinstance</span>(uri, <span style=\"color: #00ffff; text-decoration-color: #00ffff\">bytes</span>) <span style=\"color: #0000ff; text-decoration-color: #0000ff\">else</span> uri                                  <span style=\"color: #800000; text-decoration-color: #800000\">│</span>\n",
       "<span style=\"color: #800000; text-decoration-color: #800000\">│</span>   <span style=\"color: #7f7f7f; text-decoration-color: #7f7f7f\">116 </span>                                                                                           <span style=\"color: #800000; text-decoration-color: #800000\">│</span>\n",
       "<span style=\"color: #800000; text-decoration-color: #800000\">│</span>                                                                                                  <span style=\"color: #800000; text-decoration-color: #800000\">│</span>\n",
       "<span style=\"color: #800000; text-decoration-color: #800000\">│</span> <span style=\"color: #bfbf7f; text-decoration-color: #bfbf7f\">/home/aris/mambaforge/envs/grab/lib/python3.10/site-packages/imageio/core/</span><span style=\"color: #808000; text-decoration-color: #808000; font-weight: bold\">request.py</span>:<span style=\"color: #0000ff; text-decoration-color: #0000ff\">247</span> in      <span style=\"color: #800000; text-decoration-color: #800000\">│</span>\n",
       "<span style=\"color: #800000; text-decoration-color: #800000\">│</span> <span style=\"color: #00ff00; text-decoration-color: #00ff00\">__init__</span>                                                                                         <span style=\"color: #800000; text-decoration-color: #800000\">│</span>\n",
       "<span style=\"color: #800000; text-decoration-color: #800000\">│</span>                                                                                                  <span style=\"color: #800000; text-decoration-color: #800000\">│</span>\n",
       "<span style=\"color: #800000; text-decoration-color: #800000\">│</span>   <span style=\"color: #7f7f7f; text-decoration-color: #7f7f7f\">244 </span><span style=\"color: #7f7f7f; text-decoration-color: #7f7f7f\">│   │   │   </span><span style=\"color: #0000ff; text-decoration-color: #0000ff\">raise</span> <span style=\"color: #00ffff; text-decoration-color: #00ffff\">ValueError</span>(<span style=\"color: #808000; text-decoration-color: #808000\">f\"Invalid Request.Mode: {</span>mode<span style=\"color: #808000; text-decoration-color: #808000\">}\"</span>)                              <span style=\"color: #800000; text-decoration-color: #800000\">│</span>\n",
       "<span style=\"color: #800000; text-decoration-color: #800000\">│</span>   <span style=\"color: #7f7f7f; text-decoration-color: #7f7f7f\">245 </span><span style=\"color: #7f7f7f; text-decoration-color: #7f7f7f\">│   │   </span>                                                                                   <span style=\"color: #800000; text-decoration-color: #800000\">│</span>\n",
       "<span style=\"color: #800000; text-decoration-color: #800000\">│</span>   <span style=\"color: #7f7f7f; text-decoration-color: #7f7f7f\">246 </span><span style=\"color: #7f7f7f; text-decoration-color: #7f7f7f\">│   │   </span><span style=\"color: #7f7f7f; text-decoration-color: #7f7f7f\"># Parse what was given</span>                                                             <span style=\"color: #800000; text-decoration-color: #800000\">│</span>\n",
       "<span style=\"color: #800000; text-decoration-color: #800000\">│</span> <span style=\"color: #800000; text-decoration-color: #800000\">❱ </span>247 <span style=\"color: #7f7f7f; text-decoration-color: #7f7f7f\">│   │   </span><span style=\"color: #00ffff; text-decoration-color: #00ffff\">self</span>._parse_uri(uri)                                                               <span style=\"color: #800000; text-decoration-color: #800000\">│</span>\n",
       "<span style=\"color: #800000; text-decoration-color: #800000\">│</span>   <span style=\"color: #7f7f7f; text-decoration-color: #7f7f7f\">248 </span><span style=\"color: #7f7f7f; text-decoration-color: #7f7f7f\">│   │   </span>                                                                                   <span style=\"color: #800000; text-decoration-color: #800000\">│</span>\n",
       "<span style=\"color: #800000; text-decoration-color: #800000\">│</span>   <span style=\"color: #7f7f7f; text-decoration-color: #7f7f7f\">249 </span><span style=\"color: #7f7f7f; text-decoration-color: #7f7f7f\">│   │   </span><span style=\"color: #7f7f7f; text-decoration-color: #7f7f7f\"># Set extension</span>                                                                    <span style=\"color: #800000; text-decoration-color: #800000\">│</span>\n",
       "<span style=\"color: #800000; text-decoration-color: #800000\">│</span>   <span style=\"color: #7f7f7f; text-decoration-color: #7f7f7f\">250 </span><span style=\"color: #7f7f7f; text-decoration-color: #7f7f7f\">│   │   </span><span style=\"color: #0000ff; text-decoration-color: #0000ff\">if</span> extension <span style=\"color: #ff00ff; text-decoration-color: #ff00ff\">is</span> <span style=\"color: #ff00ff; text-decoration-color: #ff00ff\">not</span> <span style=\"color: #0000ff; text-decoration-color: #0000ff\">None</span>:                                                          <span style=\"color: #800000; text-decoration-color: #800000\">│</span>\n",
       "<span style=\"color: #800000; text-decoration-color: #800000\">│</span>                                                                                                  <span style=\"color: #800000; text-decoration-color: #800000\">│</span>\n",
       "<span style=\"color: #800000; text-decoration-color: #800000\">│</span> <span style=\"color: #bfbf7f; text-decoration-color: #bfbf7f\">/home/aris/mambaforge/envs/grab/lib/python3.10/site-packages/imageio/core/</span><span style=\"color: #808000; text-decoration-color: #808000; font-weight: bold\">request.py</span>:<span style=\"color: #0000ff; text-decoration-color: #0000ff\">407</span> in      <span style=\"color: #800000; text-decoration-color: #800000\">│</span>\n",
       "<span style=\"color: #800000; text-decoration-color: #800000\">│</span> <span style=\"color: #00ff00; text-decoration-color: #00ff00\">_parse_uri</span>                                                                                       <span style=\"color: #800000; text-decoration-color: #800000\">│</span>\n",
       "<span style=\"color: #800000; text-decoration-color: #800000\">│</span>                                                                                                  <span style=\"color: #800000; text-decoration-color: #800000\">│</span>\n",
       "<span style=\"color: #800000; text-decoration-color: #800000\">│</span>   <span style=\"color: #7f7f7f; text-decoration-color: #7f7f7f\">404 </span><span style=\"color: #7f7f7f; text-decoration-color: #7f7f7f\">│   │   │   </span><span style=\"color: #0000ff; text-decoration-color: #0000ff\">if</span> is_read_request:                                                            <span style=\"color: #800000; text-decoration-color: #800000\">│</span>\n",
       "<span style=\"color: #800000; text-decoration-color: #800000\">│</span>   <span style=\"color: #7f7f7f; text-decoration-color: #7f7f7f\">405 </span><span style=\"color: #7f7f7f; text-decoration-color: #7f7f7f\">│   │   │   │   </span><span style=\"color: #7f7f7f; text-decoration-color: #7f7f7f\"># Reading: check that the file exists (but is allowed a dir)</span>               <span style=\"color: #800000; text-decoration-color: #800000\">│</span>\n",
       "<span style=\"color: #800000; text-decoration-color: #800000\">│</span>   <span style=\"color: #7f7f7f; text-decoration-color: #7f7f7f\">406 </span><span style=\"color: #7f7f7f; text-decoration-color: #7f7f7f\">│   │   │   │   </span><span style=\"color: #0000ff; text-decoration-color: #0000ff\">if</span> <span style=\"color: #ff00ff; text-decoration-color: #ff00ff\">not</span> os.path.exists(fn):                                                 <span style=\"color: #800000; text-decoration-color: #800000\">│</span>\n",
       "<span style=\"color: #800000; text-decoration-color: #800000\">│</span> <span style=\"color: #800000; text-decoration-color: #800000\">❱ </span>407 <span style=\"color: #7f7f7f; text-decoration-color: #7f7f7f\">│   │   │   │   │   </span><span style=\"color: #0000ff; text-decoration-color: #0000ff\">raise</span> <span style=\"color: #00ffff; text-decoration-color: #00ffff\">FileNotFoundError</span>(<span style=\"color: #808000; text-decoration-color: #808000\">\"No such file: '%s'\"</span> % fn)                     <span style=\"color: #800000; text-decoration-color: #800000\">│</span>\n",
       "<span style=\"color: #800000; text-decoration-color: #800000\">│</span>   <span style=\"color: #7f7f7f; text-decoration-color: #7f7f7f\">408 </span><span style=\"color: #7f7f7f; text-decoration-color: #7f7f7f\">│   │   │   </span><span style=\"color: #0000ff; text-decoration-color: #0000ff\">else</span>:                                                                          <span style=\"color: #800000; text-decoration-color: #800000\">│</span>\n",
       "<span style=\"color: #800000; text-decoration-color: #800000\">│</span>   <span style=\"color: #7f7f7f; text-decoration-color: #7f7f7f\">409 </span><span style=\"color: #7f7f7f; text-decoration-color: #7f7f7f\">│   │   │   │   </span><span style=\"color: #7f7f7f; text-decoration-color: #7f7f7f\"># Writing: check that the directory to write to does exist</span>                 <span style=\"color: #800000; text-decoration-color: #800000\">│</span>\n",
       "<span style=\"color: #800000; text-decoration-color: #800000\">│</span>   <span style=\"color: #7f7f7f; text-decoration-color: #7f7f7f\">410 </span><span style=\"color: #7f7f7f; text-decoration-color: #7f7f7f\">│   │   │   │   </span>dn = os.path.dirname(fn)                                                   <span style=\"color: #800000; text-decoration-color: #800000\">│</span>\n",
       "<span style=\"color: #800000; text-decoration-color: #800000\">╰──────────────────────────────────────────────────────────────────────────────────────────────────╯</span>\n",
       "<span style=\"color: #ff0000; text-decoration-color: #ff0000; font-weight: bold\">FileNotFoundError: </span>No such file: <span style=\"color: #008000; text-decoration-color: #008000\">'/home/aris/projects/GraB-lib/sandbox/gary/lazy_training/imgs/weight_0.png'</span>\n",
       "</pre>\n"
      ],
      "text/plain": [
       "\u001B[31m╭─\u001B[0m\u001B[31m──────────────────────────────\u001B[0m\u001B[31m \u001B[0m\u001B[1;31mTraceback \u001B[0m\u001B[1;2;31m(most recent call last)\u001B[0m\u001B[31m \u001B[0m\u001B[31m───────────────────────────────\u001B[0m\u001B[31m─╮\u001B[0m\n",
       "\u001B[31m│\u001B[0m in \u001B[92m<module>\u001B[0m:\u001B[94m6\u001B[0m                                                                                    \u001B[31m│\u001B[0m\n",
       "\u001B[31m│\u001B[0m                                                                                                  \u001B[31m│\u001B[0m\n",
       "\u001B[31m│\u001B[0m   \u001B[2m3 \u001B[0mimages = []                                                                                  \u001B[31m│\u001B[0m\n",
       "\u001B[31m│\u001B[0m   \u001B[2m4 \u001B[0m\u001B[94mfor\u001B[0m idx \u001B[95min\u001B[0m \u001B[96mrange\u001B[0m(\u001B[94m87\u001B[0m):                                                                        \u001B[31m│\u001B[0m\n",
       "\u001B[31m│\u001B[0m   \u001B[2m5 \u001B[0m\u001B[2m│   \u001B[0mstep = idx * \u001B[94m100\u001B[0m                                                                         \u001B[31m│\u001B[0m\n",
       "\u001B[31m│\u001B[0m \u001B[31m❱ \u001B[0m6 \u001B[2m│   \u001B[0mimages.append(imageio.v2.imread(\u001B[33mf\u001B[0m\u001B[33m\"\u001B[0m\u001B[33msandbox/gary/lazy_training/imgs/weight_\u001B[0m\u001B[33m{\u001B[0mstep\u001B[33m}\u001B[0m\u001B[33m.png\u001B[0m\u001B[33m\"\u001B[0m     \u001B[31m│\u001B[0m\n",
       "\u001B[31m│\u001B[0m   \u001B[2m7 \u001B[0mimageio.mimsave(\u001B[33mf\u001B[0m\u001B[33m\"\u001B[0m\u001B[33msandbox/gary/lazy_training/imgs/weights.gif\u001B[0m\u001B[33m\"\u001B[0m, images)                      \u001B[31m│\u001B[0m\n",
       "\u001B[31m│\u001B[0m   \u001B[2m8 \u001B[0m                                                                                             \u001B[31m│\u001B[0m\n",
       "\u001B[31m│\u001B[0m                                                                                                  \u001B[31m│\u001B[0m\n",
       "\u001B[31m│\u001B[0m \u001B[2;33m/home/aris/mambaforge/envs/grab/lib/python3.10/site-packages/imageio/\u001B[0m\u001B[1;33mv2.py\u001B[0m:\u001B[94m359\u001B[0m in \u001B[92mimread\u001B[0m         \u001B[31m│\u001B[0m\n",
       "\u001B[31m│\u001B[0m                                                                                                  \u001B[31m│\u001B[0m\n",
       "\u001B[31m│\u001B[0m   \u001B[2m356 \u001B[0m\u001B[2m│   \u001B[0mimopen_args = decypher_format_arg(\u001B[96mformat\u001B[0m)                                              \u001B[31m│\u001B[0m\n",
       "\u001B[31m│\u001B[0m   \u001B[2m357 \u001B[0m\u001B[2m│   \u001B[0mimopen_args[\u001B[33m\"\u001B[0m\u001B[33mlegacy_mode\u001B[0m\u001B[33m\"\u001B[0m] = \u001B[94mTrue\u001B[0m                                                      \u001B[31m│\u001B[0m\n",
       "\u001B[31m│\u001B[0m   \u001B[2m358 \u001B[0m\u001B[2m│   \u001B[0m                                                                                       \u001B[31m│\u001B[0m\n",
       "\u001B[31m│\u001B[0m \u001B[31m❱ \u001B[0m359 \u001B[2m│   \u001B[0m\u001B[94mwith\u001B[0m imopen(uri, \u001B[33m\"\u001B[0m\u001B[33mri\u001B[0m\u001B[33m\"\u001B[0m, **imopen_args) \u001B[94mas\u001B[0m file:                                         \u001B[31m│\u001B[0m\n",
       "\u001B[31m│\u001B[0m   \u001B[2m360 \u001B[0m\u001B[2m│   │   \u001B[0mresult = file.read(index=\u001B[94m0\u001B[0m, **kwargs)                                              \u001B[31m│\u001B[0m\n",
       "\u001B[31m│\u001B[0m   \u001B[2m361 \u001B[0m\u001B[2m│   \u001B[0m                                                                                       \u001B[31m│\u001B[0m\n",
       "\u001B[31m│\u001B[0m   \u001B[2m362 \u001B[0m\u001B[2m│   \u001B[0m\u001B[94mreturn\u001B[0m result                                                                          \u001B[31m│\u001B[0m\n",
       "\u001B[31m│\u001B[0m                                                                                                  \u001B[31m│\u001B[0m\n",
       "\u001B[31m│\u001B[0m \u001B[2;33m/home/aris/mambaforge/envs/grab/lib/python3.10/site-packages/imageio/core/\u001B[0m\u001B[1;33mimopen.py\u001B[0m:\u001B[94m113\u001B[0m in       \u001B[31m│\u001B[0m\n",
       "\u001B[31m│\u001B[0m \u001B[92mimopen\u001B[0m                                                                                           \u001B[31m│\u001B[0m\n",
       "\u001B[31m│\u001B[0m                                                                                                  \u001B[31m│\u001B[0m\n",
       "\u001B[31m│\u001B[0m   \u001B[2m110 \u001B[0m\u001B[2m│   │   \u001B[0mio_mode = request.mode.io_mode                                                     \u001B[31m│\u001B[0m\n",
       "\u001B[31m│\u001B[0m   \u001B[2m111 \u001B[0m\u001B[2m│   │   \u001B[0mrequest.format_hint = format_hint                                                  \u001B[31m│\u001B[0m\n",
       "\u001B[31m│\u001B[0m   \u001B[2m112 \u001B[0m\u001B[2m│   \u001B[0m\u001B[94melse\u001B[0m:                                                                                  \u001B[31m│\u001B[0m\n",
       "\u001B[31m│\u001B[0m \u001B[31m❱ \u001B[0m113 \u001B[2m│   │   \u001B[0mrequest = Request(uri, io_mode, format_hint=format_hint, extension=extension)      \u001B[31m│\u001B[0m\n",
       "\u001B[31m│\u001B[0m   \u001B[2m114 \u001B[0m\u001B[2m│   \u001B[0m                                                                                       \u001B[31m│\u001B[0m\n",
       "\u001B[31m│\u001B[0m   \u001B[2m115 \u001B[0m\u001B[2m│   \u001B[0msource = \u001B[33m\"\u001B[0m\u001B[33m<bytes>\u001B[0m\u001B[33m\"\u001B[0m \u001B[94mif\u001B[0m \u001B[96misinstance\u001B[0m(uri, \u001B[96mbytes\u001B[0m) \u001B[94melse\u001B[0m uri                                  \u001B[31m│\u001B[0m\n",
       "\u001B[31m│\u001B[0m   \u001B[2m116 \u001B[0m                                                                                           \u001B[31m│\u001B[0m\n",
       "\u001B[31m│\u001B[0m                                                                                                  \u001B[31m│\u001B[0m\n",
       "\u001B[31m│\u001B[0m \u001B[2;33m/home/aris/mambaforge/envs/grab/lib/python3.10/site-packages/imageio/core/\u001B[0m\u001B[1;33mrequest.py\u001B[0m:\u001B[94m247\u001B[0m in      \u001B[31m│\u001B[0m\n",
       "\u001B[31m│\u001B[0m \u001B[92m__init__\u001B[0m                                                                                         \u001B[31m│\u001B[0m\n",
       "\u001B[31m│\u001B[0m                                                                                                  \u001B[31m│\u001B[0m\n",
       "\u001B[31m│\u001B[0m   \u001B[2m244 \u001B[0m\u001B[2m│   │   │   \u001B[0m\u001B[94mraise\u001B[0m \u001B[96mValueError\u001B[0m(\u001B[33mf\u001B[0m\u001B[33m\"\u001B[0m\u001B[33mInvalid Request.Mode: \u001B[0m\u001B[33m{\u001B[0mmode\u001B[33m}\u001B[0m\u001B[33m\"\u001B[0m)                              \u001B[31m│\u001B[0m\n",
       "\u001B[31m│\u001B[0m   \u001B[2m245 \u001B[0m\u001B[2m│   │   \u001B[0m                                                                                   \u001B[31m│\u001B[0m\n",
       "\u001B[31m│\u001B[0m   \u001B[2m246 \u001B[0m\u001B[2m│   │   \u001B[0m\u001B[2m# Parse what was given\u001B[0m                                                             \u001B[31m│\u001B[0m\n",
       "\u001B[31m│\u001B[0m \u001B[31m❱ \u001B[0m247 \u001B[2m│   │   \u001B[0m\u001B[96mself\u001B[0m._parse_uri(uri)                                                               \u001B[31m│\u001B[0m\n",
       "\u001B[31m│\u001B[0m   \u001B[2m248 \u001B[0m\u001B[2m│   │   \u001B[0m                                                                                   \u001B[31m│\u001B[0m\n",
       "\u001B[31m│\u001B[0m   \u001B[2m249 \u001B[0m\u001B[2m│   │   \u001B[0m\u001B[2m# Set extension\u001B[0m                                                                    \u001B[31m│\u001B[0m\n",
       "\u001B[31m│\u001B[0m   \u001B[2m250 \u001B[0m\u001B[2m│   │   \u001B[0m\u001B[94mif\u001B[0m extension \u001B[95mis\u001B[0m \u001B[95mnot\u001B[0m \u001B[94mNone\u001B[0m:                                                          \u001B[31m│\u001B[0m\n",
       "\u001B[31m│\u001B[0m                                                                                                  \u001B[31m│\u001B[0m\n",
       "\u001B[31m│\u001B[0m \u001B[2;33m/home/aris/mambaforge/envs/grab/lib/python3.10/site-packages/imageio/core/\u001B[0m\u001B[1;33mrequest.py\u001B[0m:\u001B[94m407\u001B[0m in      \u001B[31m│\u001B[0m\n",
       "\u001B[31m│\u001B[0m \u001B[92m_parse_uri\u001B[0m                                                                                       \u001B[31m│\u001B[0m\n",
       "\u001B[31m│\u001B[0m                                                                                                  \u001B[31m│\u001B[0m\n",
       "\u001B[31m│\u001B[0m   \u001B[2m404 \u001B[0m\u001B[2m│   │   │   \u001B[0m\u001B[94mif\u001B[0m is_read_request:                                                            \u001B[31m│\u001B[0m\n",
       "\u001B[31m│\u001B[0m   \u001B[2m405 \u001B[0m\u001B[2m│   │   │   │   \u001B[0m\u001B[2m# Reading: check that the file exists (but is allowed a dir)\u001B[0m               \u001B[31m│\u001B[0m\n",
       "\u001B[31m│\u001B[0m   \u001B[2m406 \u001B[0m\u001B[2m│   │   │   │   \u001B[0m\u001B[94mif\u001B[0m \u001B[95mnot\u001B[0m os.path.exists(fn):                                                 \u001B[31m│\u001B[0m\n",
       "\u001B[31m│\u001B[0m \u001B[31m❱ \u001B[0m407 \u001B[2m│   │   │   │   │   \u001B[0m\u001B[94mraise\u001B[0m \u001B[96mFileNotFoundError\u001B[0m(\u001B[33m\"\u001B[0m\u001B[33mNo such file: \u001B[0m\u001B[33m'\u001B[0m\u001B[33m%s\u001B[0m\u001B[33m'\u001B[0m\u001B[33m\"\u001B[0m % fn)                     \u001B[31m│\u001B[0m\n",
       "\u001B[31m│\u001B[0m   \u001B[2m408 \u001B[0m\u001B[2m│   │   │   \u001B[0m\u001B[94melse\u001B[0m:                                                                          \u001B[31m│\u001B[0m\n",
       "\u001B[31m│\u001B[0m   \u001B[2m409 \u001B[0m\u001B[2m│   │   │   │   \u001B[0m\u001B[2m# Writing: check that the directory to write to does exist\u001B[0m                 \u001B[31m│\u001B[0m\n",
       "\u001B[31m│\u001B[0m   \u001B[2m410 \u001B[0m\u001B[2m│   │   │   │   \u001B[0mdn = os.path.dirname(fn)                                                   \u001B[31m│\u001B[0m\n",
       "\u001B[31m╰──────────────────────────────────────────────────────────────────────────────────────────────────╯\u001B[0m\n",
       "\u001B[1;91mFileNotFoundError: \u001B[0mNo such file: \u001B[32m'/home/aris/projects/GraB-lib/sandbox/gary/lazy_training/imgs/weight_0.png'\u001B[0m\n"
      ]
     },
     "metadata": {},
     "output_type": "display_data"
    }
   ],
   "source": [
    "import imageio\n",
    "\n",
    "images = []\n",
    "for idx in range(87):\n",
    "    step = idx * 100\n",
    "    images.append(imageio.v2.imread(f\"sandbox/gary/lazy_training/imgs/weight_{step}.png\"))\n",
    "imageio.mimsave(f\"sandbox/gary/lazy_training/imgs/weights.gif\", images)"
   ]
  },
  {
   "cell_type": "code",
   "execution_count": 51,
   "metadata": {},
   "outputs": [
    {
     "name": "stdout",
     "output_type": "stream",
     "text": [
      "0.6580074 -0.523791\n"
     ]
    }
   ],
   "source": [
    "frames_bak = frames\n",
    "\n",
    "ub, lb = -np.inf, np.inf\n",
    "for frame in frames:\n",
    "    ub = max(ub, frame.max())\n",
    "    lb = min(lb, frame.min())\n",
    "print(ub, lb)"
   ]
  },
  {
   "cell_type": "code",
   "execution_count": 52,
   "metadata": {},
   "outputs": [
    {
     "name": "stderr",
     "output_type": "stream",
     "text": [
      "t:   0%|          | 1/301 [12:32<62:40:53, 752.18s/it, now=None]"
     ]
    },
    {
     "name": "stdout",
     "output_type": "stream",
     "text": [
      "MoviePy - Building file sandbox/gary/lazy_training/weights.gif with imageio.\n"
     ]
    },
    {
     "name": "stderr",
     "output_type": "stream",
     "text": []
    }
   ],
   "source": [
    "import os\n",
    "\n",
    "os.environ[\"IMAGEIO_FFMPEG_EXE\"] = \"/usr/bin/ffmpeg\"\n",
    "\n",
    "from moviepy.editor import ImageSequenceClip\n",
    "\n",
    "frames = ((np.array(frames_bak) + 1)*.5*256).astype(np.uint8)\n",
    "frames = np.repeat(frames[:, :, :, None], 3, axis=3)\n",
    "\n",
    "clip = ImageSequenceClip(list(frames), fps=20)\n",
    "clip.write_gif(f\"sandbox/gary/lazy_training/weights.gif\", fps=20)"
   ]
  },
  {
   "cell_type": "code",
   "execution_count": 55,
   "metadata": {},
   "outputs": [],
   "source": [
    "def unfold_model(model):\n",
    "    return torch.cat([\n",
    "        p.view(-1) for p in model.parameters()\n",
    "    ])\n",
    "\n",
    "trained_weights = unfold_model(model)\n",
    "\n",
    "set_seed(42)\n",
    "init_weights = unfold_model(LeNet().cuda())\n",
    "\n",
    "diff = trained_weights - init_weights"
   ]
  },
  {
   "cell_type": "code",
   "execution_count": 70,
   "metadata": {},
   "outputs": [
    {
     "name": "stdout",
     "output_type": "stream",
     "text": [
      "torch.Size([62006])\n",
      "tensor(0.6037, device='cuda:0', grad_fn=<MaxBackward1>)\n",
      "tensor(0.0010, device='cuda:0', grad_fn=<MeanBackward0>)\n"
     ]
    }
   ],
   "source": [
    "print(diff.shape)\n",
    "print(diff.abs().max())\n",
    "print(diff.mean())\n",
    "\n",
    "sorted = torch.sort(diff, descending=True)"
   ]
  },
  {
   "cell_type": "code",
   "execution_count": 74,
   "metadata": {},
   "outputs": [
    {
     "data": {
      "text/plain": [
       "(array([ 248.,  464.,  763., 1288., 2107., 3463., 4621., 5383., 5718.,\n",
       "        5809., 6079., 5707., 5419., 4830., 3567., 2207., 1399.,  842.,\n",
       "         543.,  282.]),\n",
       " array([-0.1 , -0.09, -0.08, -0.07, -0.06, -0.05, -0.04, -0.03, -0.02,\n",
       "        -0.01,  0.  ,  0.01,  0.02,  0.03,  0.04,  0.05,  0.06,  0.07,\n",
       "         0.08,  0.09,  0.1 ]),\n",
       " <BarContainer object of 20 artists>)"
      ]
     },
     "execution_count": 74,
     "metadata": {},
     "output_type": "execute_result"
    },
    {
     "data": {
      "image/png": "[encoded data removed]",
      "text/plain": [
       "<Figure size 640x480 with 1 Axes>"
      ]
     },
     "metadata": {},
     "output_type": "display_data"
    }
   ],
   "source": [
    "plt.hist(sorted.values.cpu().detach().numpy(), bins=20, range=(-.1, .1))"
   ]
  },
  {
   "cell_type": "code",
   "execution_count": null,
   "metadata": {},
   "outputs": [],
   "source": []
  }
 ],
 "metadata": {
  "kernelspec": {
   "display_name": "grab",
   "language": "python",
   "name": "python3"
  },
  "language_info": {
   "codemirror_mode": {
    "name": "ipython",
    "version": 3
   },
   "file_extension": ".py",
   "mimetype": "text/x-python",
   "name": "python",
   "nbconvert_exporter": "python",
   "pygments_lexer": "ipython3",
   "version": "3.10.12"
  },
  "orig_nbformat": 4
 },
 "nbformat": 4,
 "nbformat_minor": 2
}
