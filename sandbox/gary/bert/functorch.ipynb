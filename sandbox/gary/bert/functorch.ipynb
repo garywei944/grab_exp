{
 "cells": [
  {
   "cell_type": "code",
   "execution_count": 13,
   "metadata": {
    "collapsed": true,
    "ExecuteTime": {
     "end_time": "2023-06-30T07:06:34.821520231Z",
     "start_time": "2023-06-30T07:06:34.780905587Z"
    }
   },
   "outputs": [
    {
     "data": {
      "text/plain": "==========================================================================================\nLayer (type:depth-idx)                   Output Shape              Param #\n==========================================================================================\nModel                                    [1, 20, 20, 20]           --\n├─Conv2d: 1-1                            [1, 20, 24, 24]           520\n├─Conv2d: 1-2                            [1, 20, 20, 20]           (10,020)\n==========================================================================================\nTotal params: 10,540\nTrainable params: 520\nNon-trainable params: 10,020\nTotal mult-adds (M): 4.31\n==========================================================================================\nInput size (MB): 0.00\nForward/backward pass size (MB): 0.16\nParams size (MB): 0.04\nEstimated Total Size (MB): 0.20\n=========================================================================================="
     },
     "execution_count": 13,
     "metadata": {},
     "output_type": "execute_result"
    }
   ],
   "source": [
    "import torch\n",
    "import torch.nn as nn\n",
    "from torch.func import functional_call, grad\n",
    "import torch.nn.functional as F\n",
    "from torchinfo import summary\n",
    "\n",
    "\n",
    "class Model(nn.Module):\n",
    "    def __init__(self):\n",
    "        super().__init__()\n",
    "        self.conv1 = nn.Conv2d(1, 20, 5)\n",
    "        self.conv2 = nn.Conv2d(20, 20, 5)\n",
    "\n",
    "    def forward(self, x):\n",
    "        x = F.relu(self.conv1(x))\n",
    "        return F.relu(self.conv2(x))\n",
    "\n",
    "\n",
    "net = Model()\n",
    "net.conv2.requires_grad_(False)\n",
    "\n",
    "summary(net, (1, 1, 28, 28))"
   ]
  },
  {
   "cell_type": "code",
   "execution_count": 16,
   "outputs": [
    {
     "name": "stdout",
     "output_type": "stream",
     "text": [
      "dict_keys(['conv1.weight', 'conv1.bias'])\n"
     ]
    }
   ],
   "source": [
    "x = torch.randn(1, 1, 28, 28).cuda()\n",
    "t = torch.randn(1, 20, 20, 20).cuda()\n",
    "\n",
    "\n",
    "def compute_loss(params, x, t):\n",
    "    y = functional_call(net, params, x)\n",
    "    return nn.functional.mse_loss(y, t)\n",
    "\n",
    "\n",
    "params = {\n",
    "    k: v\n",
    "    for k, v in dict(net.named_parameters()).items()\n",
    "    if v.requires_grad\n",
    "}\n",
    "\n",
    "grad_weights = grad(compute_loss)(params, x, t)\n",
    "print(grad_weights.keys())"
   ],
   "metadata": {
    "collapsed": false,
    "ExecuteTime": {
     "end_time": "2023-06-30T07:08:03.532539187Z",
     "start_time": "2023-06-30T07:08:03.529423895Z"
    }
   }
  },
  {
   "cell_type": "code",
   "execution_count": null,
   "outputs": [],
   "source": [],
   "metadata": {
    "collapsed": false
   }
  }
 ],
 "metadata": {
  "kernelspec": {
   "display_name": "Python 3",
   "language": "python",
   "name": "python3"
  },
  "language_info": {
   "codemirror_mode": {
    "name": "ipython",
    "version": 2
   },
   "file_extension": ".py",
   "mimetype": "text/x-python",
   "name": "python",
   "nbconvert_exporter": "python",
   "pygments_lexer": "ipython2",
   "version": "2.7.6"
  }
 },
 "nbformat": 4,
 "nbformat_minor": 0
}
