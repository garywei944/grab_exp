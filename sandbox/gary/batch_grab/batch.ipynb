{
 "cells": [
  {
   "cell_type": "code",
   "execution_count": 183,
   "id": "initial_id",
   "metadata": {
    "collapsed": true,
    "ExecuteTime": {
     "end_time": "2023-10-11T23:23:52.318979557Z",
     "start_time": "2023-10-11T23:23:52.276743317Z"
    }
   },
   "outputs": [
    {
     "name": "stdout",
     "output_type": "stream",
     "text": [
      "/home/aris/projects/grab_exp\n",
      "The autoreload extension is already loaded. To reload it, use:\n",
      "  %reload_ext autoreload\n"
     ]
    }
   ],
   "source": [
    "%cd '/home/aris/projects/grab_exp'\n",
    "\n",
    "%load_ext autoreload\n",
    "%autoreload 1\n",
    "\n",
    "from IPython.display import display"
   ]
  },
  {
   "cell_type": "code",
   "execution_count": 184,
   "outputs": [],
   "source": [
    "import os\n",
    "import sys\n",
    "from functools import partial, reduce\n",
    "from pathlib import Path\n",
    "from dataclasses import dataclass, field\n",
    "\n",
    "import evaluate\n",
    "import numpy as np\n",
    "import pandas as pd\n",
    "import wandb\n",
    "from tqdm import tqdm\n",
    "from absl import logging\n",
    "from pprint import pprint\n",
    "\n",
    "import torch\n",
    "import torch.nn as nn\n",
    "from torchvision import datasets, transforms"
   ],
   "metadata": {
    "collapsed": false,
    "ExecuteTime": {
     "end_time": "2023-10-11T23:23:55.994117455Z",
     "start_time": "2023-10-11T23:23:55.988955273Z"
    }
   },
   "id": "6c7fef13a7f4c86b"
  },
  {
   "cell_type": "code",
   "execution_count": 185,
   "outputs": [],
   "source": [
    "device = 'cuda'\n",
    "\n",
    "logging.set_verbosity(logging.INFO)"
   ],
   "metadata": {
    "collapsed": false,
    "ExecuteTime": {
     "end_time": "2023-10-11T23:23:56.482111638Z",
     "start_time": "2023-10-11T23:23:56.470250182Z"
    }
   },
   "id": "9f37902c86b80b7c"
  },
  {
   "cell_type": "code",
   "execution_count": 186,
   "outputs": [
    {
     "name": "stdout",
     "output_type": "stream",
     "text": [
      "Files already downloaded and verified\n",
      "Files already downloaded and verified\n"
     ]
    }
   ],
   "source": [
    "transform = transforms.Compose(\n",
    "    [\n",
    "        transforms.ToTensor(),\n",
    "        transforms.Normalize(\n",
    "            mean=[0.49139968, 0.48215841, 0.44653091],\n",
    "            std=[0.24703223, 0.24348513, 0.26158784],\n",
    "        ),\n",
    "    ]\n",
    ")\n",
    "\n",
    "# Loading the dataset and preprocessing\n",
    "train_dataset = datasets.CIFAR10(\n",
    "    root=\"data/external\", train=True, download=True, transform=transform\n",
    ")\n",
    "test_dataset = datasets.CIFAR10(\n",
    "    root=\"data/external\", train=False, download=True, transform=transform\n",
    ")\n",
    "\n",
    "in_dim, num_classes = 3, 10\n",
    "\n",
    "loss_fn = nn.CrossEntropyLoss().to(device)"
   ],
   "metadata": {
    "collapsed": false,
    "ExecuteTime": {
     "end_time": "2023-10-11T23:23:59.247619839Z",
     "start_time": "2023-10-11T23:23:57.992102822Z"
    }
   },
   "id": "5127e842ea3fa136"
  },
  {
   "cell_type": "code",
   "execution_count": 187,
   "outputs": [],
   "source": [
    "class LeNet(nn.Module):\n",
    "    def __init__(self, in_dim=3, out_dim=10):\n",
    "        super(LeNet, self).__init__()\n",
    "        # # 1 input image channel, 6 output channels, 5x5 square convolution\n",
    "        # # kernel\n",
    "        # self.conv1 = nn.Conv2d(3, 6, 5)\n",
    "        # self.conv2 = nn.Conv2d(6, 16, 5)\n",
    "        # # an affine operation: y = Wx + b\n",
    "        # self.fc1 = nn.Linear(16 * 5 * 5, 120)  # 5*5 from image dimension\n",
    "        # self.fc2 = nn.Linear(120, 84)\n",
    "        # self.fc3 = nn.Linear(84, 10)\n",
    "\n",
    "        self.conv = nn.Sequential(\n",
    "            nn.Conv2d(in_dim, 6, 5),\n",
    "            nn.ReLU(),\n",
    "            nn.MaxPool2d(2, 2),\n",
    "            nn.Conv2d(6, 16, 5),\n",
    "            nn.ReLU(),\n",
    "            nn.MaxPool2d(2, 2),\n",
    "            nn.Conv2d(16, 120, 5),\n",
    "            nn.ReLU(),\n",
    "        )\n",
    "        self.fc = nn.Sequential(nn.Linear(120, 84), nn.ReLU(), nn.Linear(84, out_dim))\n",
    "\n",
    "    def forward(self, x):\n",
    "        x = self.conv(x)\n",
    "        x = x.view(-1, 120).squeeze()\n",
    "        x = self.fc(x)\n",
    "        return x"
   ],
   "metadata": {
    "collapsed": false,
    "ExecuteTime": {
     "end_time": "2023-10-11T23:24:00.266319203Z",
     "start_time": "2023-10-11T23:24:00.261194861Z"
    }
   },
   "id": "582347d56b087a06"
  },
  {
   "cell_type": "code",
   "execution_count": 188,
   "outputs": [
    {
     "name": "stderr",
     "output_type": "stream",
     "text": [
      "INFO:absl:Number of training examples: n = 50,000\n",
      "INFO:absl:Number of parameters: d = 62,006\n"
     ]
    }
   ],
   "source": [
    "model = LeNet(in_dim, num_classes).to(device)\n",
    "\n",
    "d = sum(p[1].numel() for p in model.named_parameters())\n",
    "logging.info(f\"Number of training examples: n = {len(train_dataset):,}\")\n",
    "logging.info(f\"Number of parameters: d = {d:,}\")"
   ],
   "metadata": {
    "collapsed": false,
    "ExecuteTime": {
     "end_time": "2023-10-11T23:24:00.677002218Z",
     "start_time": "2023-10-11T23:24:00.658782813Z"
    }
   },
   "id": "e44d1f464090bdf2"
  },
  {
   "cell_type": "code",
   "execution_count": 189,
   "outputs": [],
   "source": [
    "batch_size = b = 16"
   ],
   "metadata": {
    "collapsed": false,
    "ExecuteTime": {
     "end_time": "2023-10-11T23:24:01.258544068Z",
     "start_time": "2023-10-11T23:24:01.244966048Z"
    }
   },
   "id": "41a4a3e7aafded7b"
  },
  {
   "cell_type": "code",
   "execution_count": 190,
   "outputs": [],
   "source": [
    "grab_beta = torch.zeros(b, device=device, requires_grad=True)"
   ],
   "metadata": {
    "collapsed": false,
    "ExecuteTime": {
     "end_time": "2023-10-11T23:24:01.900278413Z",
     "start_time": "2023-10-11T23:24:01.898446648Z"
    }
   },
   "id": "f8ae038a33bb6380"
  },
  {
   "cell_type": "code",
   "execution_count": 178,
   "outputs": [],
   "source": [
    "def forward_hood(model, input):\n",
    "    "
   ],
   "metadata": {
    "collapsed": false,
    "ExecuteTime": {
     "end_time": "2023-10-11T21:59:26.812990432Z",
     "start_time": "2023-10-11T21:59:26.765001960Z"
    }
   },
   "id": "5c9ad4b676418013"
  },
  {
   "cell_type": "code",
   "execution_count": 179,
   "outputs": [
    {
     "name": "stdout",
     "output_type": "stream",
     "text": [
      "62006\n"
     ]
    }
   ],
   "source": [
    "total = 0\n",
    "\n",
    "for name, module in model.named_modules():\n",
    "    if len(list(module.children())) > 0:\n",
    "        continue\n",
    "    s = sum(p.numel() for p in module.parameters())\n",
    "    if s > 0:\n",
    "        total += s\n",
    "        module.register_forward_pre_hook(forward_hood)\n",
    "\n",
    "print(total)"
   ],
   "metadata": {
    "collapsed": false,
    "ExecuteTime": {
     "end_time": "2023-10-11T21:59:27.608391252Z",
     "start_time": "2023-10-11T21:59:27.601021639Z"
    }
   },
   "id": "56dbb32ca0f06eb"
  },
  {
   "cell_type": "code",
   "execution_count": 182,
   "outputs": [
    {
     "name": "stderr",
     "output_type": "stream",
     "text": [
      "INFO:absl:Number of training examples: n = 50,000\n",
      "INFO:absl:Number of parameters: d = 62,006\n"
     ]
    },
    {
     "name": "stdout",
     "output_type": "stream",
     "text": [
      "62006\n",
      "tensor(2.2811, device='cuda:0', grad_fn=<NllLossBackward0>)\n",
      "tensor([-0.0628,  0.0756,  0.0187,  0.0025,  0.0413, -0.0972, -0.0579, -0.1009,\n",
      "        -0.0128, -0.0067,  0.0191,  0.0411, -0.0118, -0.0023,  0.0237, -0.0542],\n",
      "       device='cuda:0')\n",
      "tensor([-1.,  1.,  1.,  1.,  1., -1., -1., -1., -1., -1.,  1.,  1., -1., -1.,\n",
      "         1., -1.], device='cuda:0')\n",
      "tensor([0., 0., 0., 0., 0., 0., 0., 0., 0., 0., 0., 0., 0., 0., 0., 0.],\n",
      "       device='cuda:0', requires_grad=True)\n"
     ]
    }
   ],
   "source": [
    "from accelerate.utils import set_seed\n",
    "\n",
    "set_seed(42)\n",
    "\n",
    "model = LeNet(in_dim, num_classes).to(device)\n",
    "grab_beta = torch.zeros(b, device=device, requires_grad=True)\n",
    "\n",
    "d = sum(p[1].numel() for p in model.named_parameters())\n",
    "logging.info(f\"Number of training examples: n = {len(train_dataset):,}\")\n",
    "logging.info(f\"Number of parameters: d = {d:,}\")\n",
    "\n",
    "\n",
    "def forward_hood(model, input):\n",
    "    assert len(input) == 1\n",
    "    w = input[0]\n",
    "    return w + torch.einsum(\"b,b...->b...\", grab_beta, torch.randn_like(w))\n",
    "\n",
    "\n",
    "total = 0\n",
    "\n",
    "for name, module in model.named_modules():\n",
    "    if len(list(module.children())) > 0:\n",
    "        continue\n",
    "    s = sum(p.numel() for p in module.parameters())\n",
    "    if s > 0:\n",
    "        total += s\n",
    "        module.register_forward_pre_hook(forward_hood)\n",
    "\n",
    "print(total)\n",
    "\n",
    "dataloader = torch.utils.data.DataLoader(\n",
    "    train_dataset, batch_size=batch_size, num_workers=2\n",
    ")\n",
    "\n",
    "for x, y in dataloader:\n",
    "    x, y = x.to(device), y.to(device)\n",
    "    # print(x.shape)\n",
    "    # print(y.shape)\n",
    "    loss = loss_fn(model(x), y)\n",
    "    print(loss)\n",
    "\n",
    "    loss.backward()\n",
    "    print(grab_beta.grad)\n",
    "    print(grab_beta.grad.sign())\n",
    "    break\n",
    "\n",
    "print(grab_beta)"
   ],
   "metadata": {
    "collapsed": false,
    "ExecuteTime": {
     "end_time": "2023-10-11T22:00:33.759376048Z",
     "start_time": "2023-10-11T22:00:33.657458244Z"
    }
   },
   "id": "56353a62c2c5cb7b"
  },
  {
   "cell_type": "code",
   "execution_count": 98,
   "outputs": [],
   "source": [
    "from grablib import GraBSampler"
   ],
   "metadata": {
    "collapsed": false,
    "ExecuteTime": {
     "end_time": "2023-10-11T21:23:47.556175847Z",
     "start_time": "2023-10-11T21:23:47.512225286Z"
    }
   },
   "id": "b9ea8d6923878777"
  },
  {
   "cell_type": "code",
   "execution_count": null,
   "outputs": [],
   "source": [],
   "metadata": {
    "collapsed": false
   },
   "id": "4590e63725c8de50"
  }
 ],
 "metadata": {
  "kernelspec": {
   "display_name": "Python 3",
   "language": "python",
   "name": "python3"
  },
  "language_info": {
   "codemirror_mode": {
    "name": "ipython",
    "version": 2
   },
   "file_extension": ".py",
   "mimetype": "text/x-python",
   "name": "python",
   "nbconvert_exporter": "python",
   "pygments_lexer": "ipython2",
   "version": "2.7.6"
  }
 },
 "nbformat": 4,
 "nbformat_minor": 5
}
