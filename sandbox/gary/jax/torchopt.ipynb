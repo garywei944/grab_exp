{
 "cells": [
  {
   "cell_type": "code",
   "execution_count": 7,
   "id": "initial_id",
   "metadata": {
    "collapsed": true,
    "ExecuteTime": {
     "end_time": "2024-01-05T20:38:38.458991113Z",
     "start_time": "2024-01-05T20:38:38.453569494Z"
    }
   },
   "outputs": [],
   "source": [
    "import torch\n",
    "import torch.nn as nn\n",
    "import torch.nn.functional as F\n",
    "from torch import func\n",
    "import torchopt\n",
    "from torch.utils.data import DataLoader\n",
    "import functorch\n",
    "\n",
    "lr = 1e-3\n",
    "\n",
    "\n",
    "class Net(nn.Module):\n",
    "    def __init__(self):\n",
    "        super().__init__()\n",
    "        self.fc1 = nn.Linear(10, 10)\n",
    "        self.fc2 = nn.Linear(10, 10)\n",
    "\n",
    "    def forward(self, x):\n",
    "        x = self.fc1(x)\n",
    "        x = F.relu(x)\n",
    "        x = self.fc2(x)\n",
    "        return x\n",
    "\n",
    "\n",
    "class Loader(DataLoader):\n",
    "    def __init__(self):\n",
    "        super().__init__(range(100), batch_size=10)\n",
    "\n",
    "    def __iter__(self):\n",
    "        for i in range(10):\n",
    "            yield torch.randn(10).float(), torch.randint(0, 10, (10,)).float()\n",
    "\n",
    "\n",
    "net = Net()  # init\n",
    "loader = Loader()\n",
    "optimizer = torchopt.adam(lr)\n",
    "\n",
    "# params = dict(net.named_parameters())  # get network parameters\n",
    "model, params = functorch.make_functional(net)\n",
    "opt_state = optimizer.init(params)  # init optimizer\n",
    "\n",
    "for data in loader:\n",
    "    xs, ys = data  # get data\n",
    "# xs, ys = next(loader)  # get data\n",
    "pred = model(params,xs)  # forward\n",
    "loss = F.cross_entropy(pred, ys)  # compute loss\n",
    "\n",
    "grads = torch.autograd.grad(loss, params)  # compute gradients\n",
    "updates, opt_state = optimizer.update(grads, opt_state)  # get updates\n",
    "params = torchopt.apply_updates(params, updates)  # update network parameters"
   ]
  },
  {
   "cell_type": "code",
   "outputs": [
    {
     "name": "stderr",
     "output_type": "stream",
     "text": [
      "/home/aris/mambaforge/envs/grab/lib/python3.10/site-packages/torch/_functorch/deprecated.py:100: UserWarning: We've integrated functorch into PyTorch. As the final step of the integration, functorch.make_functional is deprecated as of PyTorch 2.0 and will be deleted in a future version of PyTorch >= 2.3. Please use torch.func.functional_call instead; see the PyTorch 2.0 release notes and/or the torch.func migration guide for more details https://pytorch.org/docs/master/func.migrating.html\n",
      "  warn_deprecated('make_functional', 'torch.func.functional_call')\n"
     ]
    }
   ],
   "source": [
    "net = Net()  # init\n",
    "loader = Loader()\n",
    "optimizer = torchopt.FuncOptimizer(torchopt.adam())      # wrap with `torchopt.FuncOptimizer`\n",
    "\n",
    "model, params = functorch.make_functional(net)           # use functorch extract network parameters\n",
    "\n",
    "for xs, ys in loader:                                    # get data\n",
    "    pred = model(params, xs)                             # forward\n",
    "    loss = F.cross_entropy(pred, ys)                     # compute loss\n",
    "\n",
    "    params = optimizer.step(loss, params)                # update network parameters"
   ],
   "metadata": {
    "collapsed": false,
    "ExecuteTime": {
     "end_time": "2024-01-05T20:39:06.749804793Z",
     "start_time": "2024-01-05T20:39:06.705944627Z"
    }
   },
   "id": "f039acddd40bafee",
   "execution_count": 8
  },
  {
   "cell_type": "code",
   "outputs": [],
   "source": [
    "torchopt.schedule"
   ],
   "metadata": {
    "collapsed": false
   },
   "id": "6808b93310f1feb6"
  }
 ],
 "metadata": {
  "kernelspec": {
   "display_name": "Python 3",
   "language": "python",
   "name": "python3"
  },
  "language_info": {
   "codemirror_mode": {
    "name": "ipython",
    "version": 2
   },
   "file_extension": ".py",
   "mimetype": "text/x-python",
   "name": "python",
   "nbconvert_exporter": "python",
   "pygments_lexer": "ipython2",
   "version": "2.7.6"
  }
 },
 "nbformat": 4,
 "nbformat_minor": 5
}
