{
 "cells": [
  {
   "cell_type": "code",
   "execution_count": 1,
   "metadata": {
    "ExecuteTime": {
     "end_time": "2023-07-18T10:17:43.150917675Z",
     "start_time": "2023-07-18T10:17:43.146006621Z"
    },
    "collapsed": false
   },
   "outputs": [],
   "source": [
    "%load_ext autoreload\n",
    "%autoreload 2"
   ]
  },
  {
   "cell_type": "code",
   "execution_count": 1,
   "metadata": {
    "ExecuteTime": {
     "end_time": "2023-07-18T14:35:54.802715754Z",
     "start_time": "2023-07-18T14:35:53.587217178Z"
    },
    "collapsed": false
   },
   "outputs": [],
   "source": [
    "import torch\n",
    "import torch.nn as nn\n",
    "\n",
    "from torchinfo import summary\n",
    "from experiments.cv.models import MLP, LeNet\n",
    "\n",
    "\n",
    "net = nn.Linear(28 * 28, 10)"
   ]
  },
  {
   "cell_type": "code",
   "execution_count": 2,
   "metadata": {
    "ExecuteTime": {
     "end_time": "2023-07-18T14:35:54.805007097Z",
     "start_time": "2023-07-18T14:35:54.803360486Z"
    },
    "collapsed": false
   },
   "outputs": [],
   "source": [
    "params = dict(net.named_parameters())\n",
    "buffers = dict(net.named_buffers())"
   ]
  },
  {
   "cell_type": "code",
   "execution_count": 26,
   "metadata": {
    "ExecuteTime": {
     "end_time": "2023-07-18T14:47:41.399446239Z",
     "start_time": "2023-07-18T14:47:41.270056220Z"
    },
    "collapsed": false
   },
   "outputs": [
    {
     "name": "stdout",
     "output_type": "stream",
     "text": [
      "d 7850\n"
     ]
    },
    {
     "data": {
      "application/vnd.jupyter.widget-view+json": {
       "model_id": "ac6e5cbe0b1a44d18f73ab964845b1c4",
       "version_major": 2,
       "version_minor": 0
      },
      "text/plain": [
       "  0%|          | 0/1 [00:00<?, ?it/s]"
      ]
     },
     "metadata": {},
     "output_type": "display_data"
    },
    {
     "name": "stdout",
     "output_type": "stream",
     "text": [
      "tensor(20, device='cuda:0')\n"
     ]
    }
   ],
   "source": [
    "import torch\n",
    "from torch import Tensor\n",
    "from torch.func import functional_call, jacrev, vmap, grad\n",
    "from overrides import overrides\n",
    "from absl import logging\n",
    "from tqdm.auto import tqdm\n",
    "\n",
    "def _fnet_single(params, buffers, model, x):\n",
    "    return functional_call(model, (params, buffers), (x,))\n",
    "\n",
    "loss_fn = nn.CrossEntropyLoss()\n",
    "\n",
    "def loss_fn_single(params, buffers, model, x, y):\n",
    "    return loss_fn(_fnet_single(params, buffers, model, x), y)\n",
    "\n",
    "\n",
    "def _compute_phi(\n",
    "        model,\n",
    "        params,\n",
    "        buffers,\n",
    "        data: Tensor,\n",
    "        batch_size: int = 128,\n",
    "        dtype: torch.dtype = torch.float32,\n",
    "        device: str | torch.device = (\n",
    "                \"cuda\" if torch.cuda.is_available() else \"cpu\"),\n",
    "        *args,\n",
    "        **kwargs,\n",
    "):\n",
    "    logging.info(\"Computing the kernel matrix, this may take a while...\")\n",
    "\n",
    "    n = data.shape[0]\n",
    "    d = sum(p.numel() for p in params.values())\n",
    "    print('d', d)\n",
    "\n",
    "    PHI = torch.zeros((n, d), dtype=dtype, device=device)\n",
    "    K = torch.zeros((n, n), dtype=dtype, device=device)\n",
    "\n",
    "    for i in tqdm(range(0, n, batch_size), leave=False):\n",
    "        j = min(i + batch_size, n)\n",
    "        grads = vmap(grad(loss_fn_single), (None,None,None, 0, 0))(params, buffers, model, x[i:j], y[i:j])\n",
    "        PHI[i:j] = torch.cat(\n",
    "            [g.reshape(j-i, -1) for g in grads.values()], dim=1\n",
    "        )  # (batch_size, d)\n",
    "        # PHI[i:j] = torch.stack()\n",
    "        # print([j.numel() / 20 for j in jac.values()])\n",
    "        # print(jac)\n",
    "        # print(type(jac))\n",
    "        # PHI[i:j] = vmap(jacrev(_fnet_single), (None,None,None, 0))(params, buffers, model, x[i:j])\n",
    "        K[i:j, i:j] = PHI[i:j] @ PHI[i:j].T\n",
    "    return K\n",
    "\n",
    "x = torch.rand(20, 1, 28* 28)\n",
    "y = torch.randint(0, 10, (20,1))\n",
    "\n",
    "K = _compute_phi(net, params, buffers, x)\n",
    "print(torch.linalg.matrix_rank(K))"
   ]
  },
  {
   "cell_type": "code",
   "execution_count": null,
   "metadata": {
    "collapsed": false
   },
   "outputs": [],
   "source": []
  }
 ],
 "metadata": {
  "kernelspec": {
   "display_name": "Python 3",
   "language": "python",
   "name": "python3"
  },
  "language_info": {
   "codemirror_mode": {
    "name": "ipython",
    "version": 2
   },
   "file_extension": ".py",
   "mimetype": "text/x-python",
   "name": "python",
   "nbconvert_exporter": "python",
   "pygments_lexer": "ipython2",
   "version": "3.10.12"
  }
 },
 "nbformat": 4,
 "nbformat_minor": 0
}
