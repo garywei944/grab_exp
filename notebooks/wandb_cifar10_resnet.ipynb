{
 "cells": [
  {
   "cell_type": "code",
   "execution_count": 1,
   "metadata": {
    "collapsed": true,
    "ExecuteTime": {
     "end_time": "2024-01-13T22:24:15.687014690Z",
     "start_time": "2024-01-13T22:24:15.669598455Z"
    }
   },
   "outputs": [
    {
     "name": "stdout",
     "output_type": "stream",
     "text": [
      "/home/aris/projects/grab_exp\n"
     ]
    }
   ],
   "source": [
    "%cd '/home/aris/projects/grab_exp'\n",
    "\n",
    "%load_ext autoreload\n",
    "%autoreload 1\n",
    "\n",
    "from IPython.display import display"
   ]
  },
  {
   "cell_type": "code",
   "execution_count": 2,
   "metadata": {
    "collapsed": false,
    "ExecuteTime": {
     "end_time": "2024-01-13T22:24:35.145494025Z",
     "start_time": "2024-01-13T22:24:15.687294782Z"
    }
   },
   "outputs": [],
   "source": [
    "import torch\n",
    "import numpy as np\n",
    "import pandas as pd\n",
    "import matplotlib.pyplot as plt\n",
    "\n",
    "import os\n",
    "import sys\n",
    "from pathlib import Path\n",
    "import pickle\n",
    "from timeit import default_timer as timer\n",
    "from tqdm.notebook import tqdm"
   ]
  },
  {
   "cell_type": "code",
   "execution_count": 3,
   "metadata": {
    "collapsed": false,
    "ExecuteTime": {
     "end_time": "2024-01-13T22:24:35.208828156Z",
     "start_time": "2024-01-13T22:24:35.185473800Z"
    }
   },
   "outputs": [],
   "source": [
    "def show_df(df: pd.DataFrame):\n",
    "    display(df.head())\n",
    "    print(df.shape)"
   ]
  },
  {
   "cell_type": "code",
   "execution_count": 4,
   "metadata": {
    "collapsed": false,
    "ExecuteTime": {
     "end_time": "2024-01-13T22:24:36.070047584Z",
     "start_time": "2024-01-13T22:24:35.185794662Z"
    }
   },
   "outputs": [],
   "source": [
    "import pandas as pd\n",
    "import wandb\n",
    "\n",
    "api = wandb.Api()\n",
    "\n",
    "runs = api.runs(\"grab/sam-cifar10\")"
   ]
  },
  {
   "cell_type": "code",
   "outputs": [
    {
     "name": "stdout",
     "output_type": "stream",
     "text": [
      "{'data_aug': 'none', 'norm': 'gn', 'grab': True, 'sam': True, 'rho': 0.1, 'val_acc_100': 0.8628, 'val_acc_150': 0.8931, 'val_acc_200': 0.8955, 'val_acc': 0.8955}\n",
      "{'data_aug': 'basic', 'norm': 'gn', 'grab': True, 'sam': True, 'rho': 0.3, 'val_acc_100': 0.9014, 'val_acc_150': 0.9388, 'val_acc_200': 0.9448, 'val_acc': 0.9448}\n",
      "{'data_aug': 'basic', 'norm': 'gn', 'grab': True, 'sam': True, 'rho': 0.1, 'val_acc_100': 0.8938, 'val_acc_150': 0.9444, 'val_acc_200': 0.9491, 'val_acc': 0.9491}\n",
      "{'data_aug': 'basic', 'norm': 'gn', 'grab': True, 'sam': True, 'rho': 0.2, 'val_acc_100': 0.9057, 'val_acc_150': 0.9437, 'val_acc_200': 0.9499, 'val_acc': 0.9499}\n",
      "{'data_aug': 'basic', 'norm': 'bn', 'rho': 0.3, 'sam': True, 'grab': False, 'val_acc_100': 0.9172999858856201, 'val_acc_150': 0.9546999931335449, 'val_acc_200': 0.958299994468689, 'val_acc': 0.958299994468689}\n",
      "{'data_aug': 'basic', 'norm': 'gn', 'rho': 0.2, 'sam': True, 'grab': False, 'val_acc_100': 0.897599995136261, 'val_acc_150': 0.9419000148773193, 'val_acc_200': 0.9456999897956848, 'val_acc': 0.9456999897956848}\n",
      "{'data_aug': 'basic', 'norm': 'gn', 'rho': 0.3, 'sam': True, 'grab': False, 'val_acc_100': 0.8963000178337097, 'val_acc_150': 0.9343000054359436, 'val_acc_200': 0.9394000172615051, 'val_acc': 0.9394000172615051}\n",
      "{'data_aug': 'basic', 'norm': 'bn', 'rho': 0.2, 'sam': True, 'grab': False, 'val_acc_100': 0.9151999950408936, 'val_acc_150': 0.9575999975204468, 'val_acc_200': 0.9605000019073486, 'val_acc': 0.9605000019073486}\n",
      "{'data_aug': 'none', 'norm': 'gn', 'grab': True, 'sam': True, 'rho': 0.1, 'val_acc_100': 0.8628, 'val_acc_150': 0.8931, 'val_acc_200': 0.8955, 'val_acc': 0.8955}\n",
      "{'data_aug': 'none', 'norm': 'gn', 'grab': True, 'sam': False, 'rho': 0, 'val_acc_100': 0.8418, 'val_acc_150': 0.8829, 'val_acc_200': 0.8758, 'val_acc': 0.8829}\n",
      "{'data_aug': 'basic', 'norm': 'gn', 'grab': True, 'sam': False, 'rho': 0, 'val_acc_100': 0.869, 'val_acc_150': 0.9243, 'val_acc_200': 0.94, 'val_acc': 0.94}\n",
      "{'data_aug': 'none', 'norm': 'bn', 'rho': 0, 'sam': False, 'grab': False, 'val_acc_100': 0.8416000008583069, 'val_acc_150': 0.8949999809265137, 'val_acc_200': 0.8949999809265137, 'val_acc': 0.8949999809265137}\n",
      "{'data_aug': 'basic', 'norm': 'bn', 'rho': 0.1, 'sam': True, 'grab': False, 'val_acc_100': 0.9053999781608582, 'val_acc_150': 0.9531000256538391, 'val_acc_200': 0.9578999876976013, 'val_acc': 0.9578999876976013}\n",
      "{'data_aug': 'none', 'norm': 'gn', 'rho': 0.1, 'sam': True, 'grab': False, 'val_acc_100': 0.8629000186920166, 'val_acc_150': 0.8986999988555908, 'val_acc_200': 0.902999997138977, 'val_acc': 0.902999997138977}\n",
      "{'data_aug': 'none', 'norm': 'bn', 'rho': 0.1, 'sam': True, 'grab': False, 'val_acc_100': 0.8683000206947327, 'val_acc_150': 0.9103000164031982, 'val_acc_200': 0.9143999814987183, 'val_acc': 0.9143999814987183}\n",
      "{'data_aug': 'basic', 'norm': 'gn', 'rho': 0, 'sam': False, 'grab': False, 'val_acc_100': 0.8725000023841858, 'val_acc_150': 0.927299976348877, 'val_acc_200': 0.941100001335144, 'val_acc': 0.941100001335144}\n",
      "{'data_aug': 'basic', 'norm': 'gn', 'rho': 0.1, 'sam': True, 'grab': False, 'val_acc_100': 0.8982999920845032, 'val_acc_150': 0.9448999762535095, 'val_acc_200': 0.9531000256538391, 'val_acc': 0.9531000256538391}\n",
      "{'data_aug': 'none', 'norm': 'gn', 'rho': 0, 'sam': False, 'grab': False, 'val_acc_100': 0.8496999740600586, 'val_acc_150': 0.8790000081062317, 'val_acc_200': 0.8762000203132629, 'val_acc': 0.8790000081062317}\n",
      "{'data_aug': 'basic', 'norm': 'bn', 'rho': 0, 'sam': False, 'grab': False, 'val_acc_100': 0.8747000098228455, 'val_acc_150': 0.9438999891281128, 'val_acc_200': 0.9521999955177307, 'val_acc': 0.9521999955177307}\n"
     ]
    },
    {
     "data": {
      "text/plain": "   data_aug norm   grab    sam  rho  val_acc_100  val_acc_150  val_acc_200  \\\n18    basic   bn  False  False  0.0       0.8747       0.9439       0.9522   \n15    basic   gn  False  False  0.0       0.8725       0.9273       0.9411   \n10    basic   gn   True  False  0.0       0.8690       0.9243       0.9400   \n12    basic   bn  False   True  0.1       0.9054       0.9531       0.9579   \n16    basic   gn  False   True  0.1       0.8983       0.9449       0.9531   \n\n    val_acc  \n18   0.9522  \n15   0.9411  \n10   0.9400  \n12   0.9579  \n16   0.9531  ",
      "text/html": "<div>\n<style scoped>\n    .dataframe tbody tr th:only-of-type {\n        vertical-align: middle;\n    }\n\n    .dataframe tbody tr th {\n        vertical-align: top;\n    }\n\n    .dataframe thead th {\n        text-align: right;\n    }\n</style>\n<table border=\"1\" class=\"dataframe\">\n  <thead>\n    <tr style=\"text-align: right;\">\n      <th></th>\n      <th>data_aug</th>\n      <th>norm</th>\n      <th>grab</th>\n      <th>sam</th>\n      <th>rho</th>\n      <th>val_acc_100</th>\n      <th>val_acc_150</th>\n      <th>val_acc_200</th>\n      <th>val_acc</th>\n    </tr>\n  </thead>\n  <tbody>\n    <tr>\n      <th>18</th>\n      <td>basic</td>\n      <td>bn</td>\n      <td>False</td>\n      <td>False</td>\n      <td>0.0</td>\n      <td>0.8747</td>\n      <td>0.9439</td>\n      <td>0.9522</td>\n      <td>0.9522</td>\n    </tr>\n    <tr>\n      <th>15</th>\n      <td>basic</td>\n      <td>gn</td>\n      <td>False</td>\n      <td>False</td>\n      <td>0.0</td>\n      <td>0.8725</td>\n      <td>0.9273</td>\n      <td>0.9411</td>\n      <td>0.9411</td>\n    </tr>\n    <tr>\n      <th>10</th>\n      <td>basic</td>\n      <td>gn</td>\n      <td>True</td>\n      <td>False</td>\n      <td>0.0</td>\n      <td>0.8690</td>\n      <td>0.9243</td>\n      <td>0.9400</td>\n      <td>0.9400</td>\n    </tr>\n    <tr>\n      <th>12</th>\n      <td>basic</td>\n      <td>bn</td>\n      <td>False</td>\n      <td>True</td>\n      <td>0.1</td>\n      <td>0.9054</td>\n      <td>0.9531</td>\n      <td>0.9579</td>\n      <td>0.9579</td>\n    </tr>\n    <tr>\n      <th>16</th>\n      <td>basic</td>\n      <td>gn</td>\n      <td>False</td>\n      <td>True</td>\n      <td>0.1</td>\n      <td>0.8983</td>\n      <td>0.9449</td>\n      <td>0.9531</td>\n      <td>0.9531</td>\n    </tr>\n  </tbody>\n</table>\n</div>"
     },
     "metadata": {},
     "output_type": "display_data"
    },
    {
     "name": "stdout",
     "output_type": "stream",
     "text": [
      "(19, 9)\n"
     ]
    }
   ],
   "source": [
    "data = []\n",
    "for run in runs:\n",
    "    if 'faulty' in run.tags:\n",
    "        continue\n",
    "    if 'result' not in run.tags:\n",
    "        continue\n",
    "    if run.config.get('model_name') != 'resnet':\n",
    "        continue\n",
    "\n",
    "    entry = {\n",
    "        'data_aug': run.config['data_augmentation'],\n",
    "    }\n",
    "\n",
    "    # history = run.scan_history()\n",
    "    if 'func' in run.name:\n",
    "        # func version\n",
    "        val_acc = run.history(keys=['val_accuracy'])['val_accuracy']\n",
    "\n",
    "        entry['norm'] = run.config['wrn_norm']\n",
    "        entry['grab'] = run.config['balance_type'] == 'BalanceType.MEAN_BALANCE'\n",
    "\n",
    "        if run.config.get('exp') == 'sam':\n",
    "            entry['sam'] = True\n",
    "            entry['rho'] = run.config['rho']\n",
    "        else:\n",
    "            entry['sam'] = False\n",
    "            entry['rho'] = 0\n",
    "    else:\n",
    "        # lightning version\n",
    "        val_acc = run.history(keys=['val_acc'])['val_acc']\n",
    "\n",
    "        entry['norm'] = run.config['norm']\n",
    "\n",
    "        entry['rho'] = run.config['rho'] if 'rho' in run.config else 0\n",
    "        # entry['grab'] = False\n",
    "\n",
    "        if 'rho' in run.config:\n",
    "            entry['sam'] = True\n",
    "            entry['rho'] = run.config['rho']\n",
    "        else:\n",
    "            entry['sam'] = False\n",
    "            entry['rho'] = 0\n",
    "\n",
    "        entry['grab'] = False\n",
    "\n",
    "    entry['val_acc_100'] = val_acc[:100].max()\n",
    "    entry['val_acc_150'] = val_acc[100:-50].max()\n",
    "    entry['val_acc_200'] = val_acc[-50:].max()\n",
    "    entry['val_acc'] = val_acc.max()\n",
    "\n",
    "    data.append(entry)\n",
    "\n",
    "    print(entry)\n",
    "\n",
    "df = pd.DataFrame(data)\n",
    "\n",
    "df = df.sort_values(['data_aug', 'sam', 'rho', 'grab', 'norm'])\n",
    "\n",
    "show_df(df)"
   ],
   "metadata": {
    "collapsed": false,
    "ExecuteTime": {
     "end_time": "2024-01-13T22:48:39.800639202Z",
     "start_time": "2024-01-13T22:48:37.642491440Z"
    }
   },
   "execution_count": 20
  },
  {
   "cell_type": "code",
   "outputs": [
    {
     "data": {
      "text/plain": "   data_aug norm   grab    sam  rho  val_acc_100  val_acc_150  val_acc_200  \\\n18    basic   bn  False  False  0.0       0.8747       0.9439       0.9522   \n15    basic   gn  False  False  0.0       0.8725       0.9273       0.9411   \n10    basic   gn   True  False  0.0       0.8690       0.9243       0.9400   \n12    basic   bn  False   True  0.1       0.9054       0.9531       0.9579   \n16    basic   gn  False   True  0.1       0.8983       0.9449       0.9531   \n2     basic   gn   True   True  0.1       0.8938       0.9444       0.9491   \n7     basic   bn  False   True  0.2       0.9152       0.9576       0.9605   \n5     basic   gn  False   True  0.2       0.8976       0.9419       0.9457   \n3     basic   gn   True   True  0.2       0.9057       0.9437       0.9499   \n4     basic   bn  False   True  0.3       0.9173       0.9547       0.9583   \n6     basic   gn  False   True  0.3       0.8963       0.9343       0.9394   \n1     basic   gn   True   True  0.3       0.9014       0.9388       0.9448   \n11     none   bn  False  False  0.0       0.8416       0.8950       0.8950   \n17     none   gn  False  False  0.0       0.8497       0.8790       0.8762   \n9      none   gn   True  False  0.0       0.8418       0.8829       0.8758   \n14     none   bn  False   True  0.1       0.8683       0.9103       0.9144   \n13     none   gn  False   True  0.1       0.8629       0.8987       0.9030   \n0      none   gn   True   True  0.1       0.8628       0.8931       0.8955   \n8      none   gn   True   True  0.1       0.8628       0.8931       0.8955   \n\n    val_acc  \n18   0.9522  \n15   0.9411  \n10   0.9400  \n12   0.9579  \n16   0.9531  \n2    0.9491  \n7    0.9605  \n5    0.9457  \n3    0.9499  \n4    0.9583  \n6    0.9394  \n1    0.9448  \n11   0.8950  \n17   0.8790  \n9    0.8829  \n14   0.9144  \n13   0.9030  \n0    0.8955  \n8    0.8955  ",
      "text/html": "<div>\n<style scoped>\n    .dataframe tbody tr th:only-of-type {\n        vertical-align: middle;\n    }\n\n    .dataframe tbody tr th {\n        vertical-align: top;\n    }\n\n    .dataframe thead th {\n        text-align: right;\n    }\n</style>\n<table border=\"1\" class=\"dataframe\">\n  <thead>\n    <tr style=\"text-align: right;\">\n      <th></th>\n      <th>data_aug</th>\n      <th>norm</th>\n      <th>grab</th>\n      <th>sam</th>\n      <th>rho</th>\n      <th>val_acc_100</th>\n      <th>val_acc_150</th>\n      <th>val_acc_200</th>\n      <th>val_acc</th>\n    </tr>\n  </thead>\n  <tbody>\n    <tr>\n      <th>18</th>\n      <td>basic</td>\n      <td>bn</td>\n      <td>False</td>\n      <td>False</td>\n      <td>0.0</td>\n      <td>0.8747</td>\n      <td>0.9439</td>\n      <td>0.9522</td>\n      <td>0.9522</td>\n    </tr>\n    <tr>\n      <th>15</th>\n      <td>basic</td>\n      <td>gn</td>\n      <td>False</td>\n      <td>False</td>\n      <td>0.0</td>\n      <td>0.8725</td>\n      <td>0.9273</td>\n      <td>0.9411</td>\n      <td>0.9411</td>\n    </tr>\n    <tr>\n      <th>10</th>\n      <td>basic</td>\n      <td>gn</td>\n      <td>True</td>\n      <td>False</td>\n      <td>0.0</td>\n      <td>0.8690</td>\n      <td>0.9243</td>\n      <td>0.9400</td>\n      <td>0.9400</td>\n    </tr>\n    <tr>\n      <th>12</th>\n      <td>basic</td>\n      <td>bn</td>\n      <td>False</td>\n      <td>True</td>\n      <td>0.1</td>\n      <td>0.9054</td>\n      <td>0.9531</td>\n      <td>0.9579</td>\n      <td>0.9579</td>\n    </tr>\n    <tr>\n      <th>16</th>\n      <td>basic</td>\n      <td>gn</td>\n      <td>False</td>\n      <td>True</td>\n      <td>0.1</td>\n      <td>0.8983</td>\n      <td>0.9449</td>\n      <td>0.9531</td>\n      <td>0.9531</td>\n    </tr>\n    <tr>\n      <th>2</th>\n      <td>basic</td>\n      <td>gn</td>\n      <td>True</td>\n      <td>True</td>\n      <td>0.1</td>\n      <td>0.8938</td>\n      <td>0.9444</td>\n      <td>0.9491</td>\n      <td>0.9491</td>\n    </tr>\n    <tr>\n      <th>7</th>\n      <td>basic</td>\n      <td>bn</td>\n      <td>False</td>\n      <td>True</td>\n      <td>0.2</td>\n      <td>0.9152</td>\n      <td>0.9576</td>\n      <td>0.9605</td>\n      <td>0.9605</td>\n    </tr>\n    <tr>\n      <th>5</th>\n      <td>basic</td>\n      <td>gn</td>\n      <td>False</td>\n      <td>True</td>\n      <td>0.2</td>\n      <td>0.8976</td>\n      <td>0.9419</td>\n      <td>0.9457</td>\n      <td>0.9457</td>\n    </tr>\n    <tr>\n      <th>3</th>\n      <td>basic</td>\n      <td>gn</td>\n      <td>True</td>\n      <td>True</td>\n      <td>0.2</td>\n      <td>0.9057</td>\n      <td>0.9437</td>\n      <td>0.9499</td>\n      <td>0.9499</td>\n    </tr>\n    <tr>\n      <th>4</th>\n      <td>basic</td>\n      <td>bn</td>\n      <td>False</td>\n      <td>True</td>\n      <td>0.3</td>\n      <td>0.9173</td>\n      <td>0.9547</td>\n      <td>0.9583</td>\n      <td>0.9583</td>\n    </tr>\n    <tr>\n      <th>6</th>\n      <td>basic</td>\n      <td>gn</td>\n      <td>False</td>\n      <td>True</td>\n      <td>0.3</td>\n      <td>0.8963</td>\n      <td>0.9343</td>\n      <td>0.9394</td>\n      <td>0.9394</td>\n    </tr>\n    <tr>\n      <th>1</th>\n      <td>basic</td>\n      <td>gn</td>\n      <td>True</td>\n      <td>True</td>\n      <td>0.3</td>\n      <td>0.9014</td>\n      <td>0.9388</td>\n      <td>0.9448</td>\n      <td>0.9448</td>\n    </tr>\n    <tr>\n      <th>11</th>\n      <td>none</td>\n      <td>bn</td>\n      <td>False</td>\n      <td>False</td>\n      <td>0.0</td>\n      <td>0.8416</td>\n      <td>0.8950</td>\n      <td>0.8950</td>\n      <td>0.8950</td>\n    </tr>\n    <tr>\n      <th>17</th>\n      <td>none</td>\n      <td>gn</td>\n      <td>False</td>\n      <td>False</td>\n      <td>0.0</td>\n      <td>0.8497</td>\n      <td>0.8790</td>\n      <td>0.8762</td>\n      <td>0.8790</td>\n    </tr>\n    <tr>\n      <th>9</th>\n      <td>none</td>\n      <td>gn</td>\n      <td>True</td>\n      <td>False</td>\n      <td>0.0</td>\n      <td>0.8418</td>\n      <td>0.8829</td>\n      <td>0.8758</td>\n      <td>0.8829</td>\n    </tr>\n    <tr>\n      <th>14</th>\n      <td>none</td>\n      <td>bn</td>\n      <td>False</td>\n      <td>True</td>\n      <td>0.1</td>\n      <td>0.8683</td>\n      <td>0.9103</td>\n      <td>0.9144</td>\n      <td>0.9144</td>\n    </tr>\n    <tr>\n      <th>13</th>\n      <td>none</td>\n      <td>gn</td>\n      <td>False</td>\n      <td>True</td>\n      <td>0.1</td>\n      <td>0.8629</td>\n      <td>0.8987</td>\n      <td>0.9030</td>\n      <td>0.9030</td>\n    </tr>\n    <tr>\n      <th>0</th>\n      <td>none</td>\n      <td>gn</td>\n      <td>True</td>\n      <td>True</td>\n      <td>0.1</td>\n      <td>0.8628</td>\n      <td>0.8931</td>\n      <td>0.8955</td>\n      <td>0.8955</td>\n    </tr>\n    <tr>\n      <th>8</th>\n      <td>none</td>\n      <td>gn</td>\n      <td>True</td>\n      <td>True</td>\n      <td>0.1</td>\n      <td>0.8628</td>\n      <td>0.8931</td>\n      <td>0.8955</td>\n      <td>0.8955</td>\n    </tr>\n  </tbody>\n</table>\n</div>"
     },
     "execution_count": 19,
     "metadata": {},
     "output_type": "execute_result"
    }
   ],
   "source": [
    "df"
   ],
   "metadata": {
    "collapsed": false,
    "ExecuteTime": {
     "end_time": "2024-01-13T22:35:04.301918395Z",
     "start_time": "2024-01-13T22:35:04.296945306Z"
    }
   },
   "execution_count": 19
  },
  {
   "cell_type": "code",
   "outputs": [],
   "source": [],
   "metadata": {
    "collapsed": false
   }
  }
 ],
 "metadata": {
  "kernelspec": {
   "display_name": "Python 3",
   "language": "python",
   "name": "python3"
  },
  "language_info": {
   "codemirror_mode": {
    "name": "ipython",
    "version": 2
   },
   "file_extension": ".py",
   "mimetype": "text/x-python",
   "name": "python",
   "nbconvert_exporter": "python",
   "pygments_lexer": "ipython2",
   "version": "2.7.6"
  }
 },
 "nbformat": 4,
 "nbformat_minor": 0
}
