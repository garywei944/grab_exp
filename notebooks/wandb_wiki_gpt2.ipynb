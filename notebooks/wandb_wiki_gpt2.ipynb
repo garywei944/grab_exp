{
 "cells": [
  {
   "cell_type": "code",
   "execution_count": 1,
   "metadata": {
    "collapsed": true,
    "ExecuteTime": {
     "end_time": "2024-01-13T22:46:08.462555012Z",
     "start_time": "2024-01-13T22:46:08.461796382Z"
    }
   },
   "outputs": [
    {
     "name": "stdout",
     "output_type": "stream",
     "text": [
      "/home/aris/projects/grab_exp\n"
     ]
    }
   ],
   "source": [
    "%cd '/home/aris/projects/grab_exp'\n",
    "\n",
    "%load_ext autoreload\n",
    "%autoreload 1\n",
    "\n",
    "from IPython.display import display"
   ]
  },
  {
   "cell_type": "code",
   "execution_count": 2,
   "metadata": {
    "collapsed": false,
    "ExecuteTime": {
     "end_time": "2024-01-13T22:46:10.442120280Z",
     "start_time": "2024-01-13T22:46:08.877049961Z"
    }
   },
   "outputs": [],
   "source": [
    "import torch\n",
    "import numpy as np\n",
    "import pandas as pd\n",
    "import matplotlib.pyplot as plt\n",
    "\n",
    "import os\n",
    "import sys\n",
    "from pathlib import Path\n",
    "import pickle\n",
    "from timeit import default_timer as timer\n",
    "from tqdm.notebook import tqdm"
   ]
  },
  {
   "cell_type": "code",
   "execution_count": 3,
   "metadata": {
    "collapsed": false,
    "ExecuteTime": {
     "end_time": "2024-01-13T22:46:10.446658558Z",
     "start_time": "2024-01-13T22:46:10.442973911Z"
    }
   },
   "outputs": [],
   "source": [
    "def show_df(df: pd.DataFrame):\n",
    "    display(df.head())\n",
    "    print(df.shape)"
   ]
  },
  {
   "cell_type": "code",
   "execution_count": 4,
   "metadata": {
    "collapsed": false,
    "ExecuteTime": {
     "end_time": "2024-01-13T22:46:19.503669178Z",
     "start_time": "2024-01-13T22:46:18.906170079Z"
    }
   },
   "outputs": [],
   "source": [
    "import pandas as pd\n",
    "import wandb\n",
    "\n",
    "api = wandb.Api()\n",
    "\n",
    "runs = api.runs(\"grab/grab-gpt2-wikitext\")"
   ]
  },
  {
   "cell_type": "code",
   "outputs": [
    {
     "name": "stdout",
     "output_type": "stream",
     "text": [
      "{'sam': True, 'grab': False, 'val_ppl': 58.78937911987305}\n",
      "{'sam': True, 'grab': True, 'val_ppl': 58.1005859375}\n",
      "{'sam': False, 'grab': True, 'val_ppl': 57.588932037353516}\n",
      "{'sam': False, 'grab': False, 'val_ppl': 58.139137268066406}\n"
     ]
    },
    {
     "data": {
      "text/plain": "     sam   grab    val_ppl\n3  False  False  58.139137\n2  False   True  57.588932\n0   True  False  58.789379\n1   True   True  58.100586",
      "text/html": "<div>\n<style scoped>\n    .dataframe tbody tr th:only-of-type {\n        vertical-align: middle;\n    }\n\n    .dataframe tbody tr th {\n        vertical-align: top;\n    }\n\n    .dataframe thead th {\n        text-align: right;\n    }\n</style>\n<table border=\"1\" class=\"dataframe\">\n  <thead>\n    <tr style=\"text-align: right;\">\n      <th></th>\n      <th>sam</th>\n      <th>grab</th>\n      <th>val_ppl</th>\n    </tr>\n  </thead>\n  <tbody>\n    <tr>\n      <th>3</th>\n      <td>False</td>\n      <td>False</td>\n      <td>58.139137</td>\n    </tr>\n    <tr>\n      <th>2</th>\n      <td>False</td>\n      <td>True</td>\n      <td>57.588932</td>\n    </tr>\n    <tr>\n      <th>0</th>\n      <td>True</td>\n      <td>False</td>\n      <td>58.789379</td>\n    </tr>\n    <tr>\n      <th>1</th>\n      <td>True</td>\n      <td>True</td>\n      <td>58.100586</td>\n    </tr>\n  </tbody>\n</table>\n</div>"
     },
     "metadata": {},
     "output_type": "display_data"
    },
    {
     "name": "stdout",
     "output_type": "stream",
     "text": [
      "(4, 3)\n"
     ]
    }
   ],
   "source": [
    "data = []\n",
    "for run in runs:\n",
    "    if 'result_0113' not in run.tags:\n",
    "        continue\n",
    "\n",
    "    entry = {\n",
    "        'sam': run.config.get('exp') == 'sam',\n",
    "        'grab': run.config.get('balance_type') == 'BalanceType.MEAN_BALANCE',\n",
    "    }\n",
    "\n",
    "    entry['val_ppl'] = run.history().get('val_perplexity').min()\n",
    "    \n",
    "    data.append(entry)\n",
    "\n",
    "    print(entry)\n",
    "\n",
    "df = pd.DataFrame(data)\n",
    "\n",
    "df = df.sort_values(['sam', 'grab'])\n",
    "\n",
    "show_df(df)"
   ],
   "metadata": {
    "collapsed": false,
    "ExecuteTime": {
     "end_time": "2024-01-13T22:50:11.265108160Z",
     "start_time": "2024-01-13T22:50:09.899050147Z"
    }
   },
   "execution_count": 13
  },
  {
   "cell_type": "code",
   "outputs": [
    {
     "data": {
      "text/plain": "     sam   grab    val_ppl\n3  False  False  58.139137\n2  False   True  57.588932\n0   True  False  58.789379\n1   True   True  58.100586",
      "text/html": "<div>\n<style scoped>\n    .dataframe tbody tr th:only-of-type {\n        vertical-align: middle;\n    }\n\n    .dataframe tbody tr th {\n        vertical-align: top;\n    }\n\n    .dataframe thead th {\n        text-align: right;\n    }\n</style>\n<table border=\"1\" class=\"dataframe\">\n  <thead>\n    <tr style=\"text-align: right;\">\n      <th></th>\n      <th>sam</th>\n      <th>grab</th>\n      <th>val_ppl</th>\n    </tr>\n  </thead>\n  <tbody>\n    <tr>\n      <th>3</th>\n      <td>False</td>\n      <td>False</td>\n      <td>58.139137</td>\n    </tr>\n    <tr>\n      <th>2</th>\n      <td>False</td>\n      <td>True</td>\n      <td>57.588932</td>\n    </tr>\n    <tr>\n      <th>0</th>\n      <td>True</td>\n      <td>False</td>\n      <td>58.789379</td>\n    </tr>\n    <tr>\n      <th>1</th>\n      <td>True</td>\n      <td>True</td>\n      <td>58.100586</td>\n    </tr>\n  </tbody>\n</table>\n</div>"
     },
     "execution_count": 14,
     "metadata": {},
     "output_type": "execute_result"
    }
   ],
   "source": [
    "df"
   ],
   "metadata": {
    "collapsed": false,
    "ExecuteTime": {
     "end_time": "2024-01-13T22:50:11.361482625Z",
     "start_time": "2024-01-13T22:50:11.265156070Z"
    }
   },
   "execution_count": 14
  },
  {
   "cell_type": "code",
   "outputs": [],
   "source": [],
   "metadata": {
    "collapsed": false
   }
  }
 ],
 "metadata": {
  "kernelspec": {
   "display_name": "Python 3",
   "language": "python",
   "name": "python3"
  },
  "language_info": {
   "codemirror_mode": {
    "name": "ipython",
    "version": 2
   },
   "file_extension": ".py",
   "mimetype": "text/x-python",
   "name": "python",
   "nbconvert_exporter": "python",
   "pygments_lexer": "ipython2",
   "version": "2.7.6"
  }
 },
 "nbformat": 4,
 "nbformat_minor": 0
}
